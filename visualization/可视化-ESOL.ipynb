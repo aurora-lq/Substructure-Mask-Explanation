{
 "cells": [
  {
   "cell_type": "code",
   "execution_count": 4,
   "id": "6c3ec0b9",
   "metadata": {},
   "outputs": [
    {
     "name": "stdout",
     "output_type": "stream",
     "text": [
      "*********************COc1ccc(C(O)(c2cncnc2)C2CC2)cc1*********************\n",
      "prediction: -2.5860622406005858\n",
      "label: -2.595999956130981\n",
      "********atom attribution********\n"
     ]
    },
    {
     "name": "stderr",
     "output_type": "stream",
     "text": [
      "[00:49:54] The new font size 1 is below the current minimum (6).\n"
     ]
    },
    {
     "data": {
      "image/svg+xml": [
       "<svg baseProfile=\"full\" height=\"280px\" version=\"1.1\" viewBox=\"0 0 280 280\" width=\"280px\" xml:space=\"preserve\" xmlns=\"http://www.w3.org/2000/svg\" xmlns:rdkit=\"http://www.rdkit.org/xml\" xmlns:xlink=\"http://www.w3.org/1999/xlink\">\n",
       "<!-- END OF HEADER -->\n",
       "<rect height=\"280.0\" style=\"opacity:1.0;fill:#FFFFFF;stroke:none\" width=\"280.0\" x=\"0.0\" y=\"0.0\"> </rect>\n",
       "<ellipse class=\"atom-0\" cx=\"251.9\" cy=\"157.3\" rx=\"7.7\" ry=\"7.7\" style=\"fill:#F5FAB1;fill-rule:evenodd;stroke:#F5FAB1;stroke-width:1.0px;stroke-linecap:butt;stroke-linejoin:miter;stroke-opacity:1\"/>\n",
       "<ellipse class=\"atom-1\" cx=\"238.2\" cy=\"121.5\" rx=\"7.7\" ry=\"7.9\" style=\"fill:#FEFEBD;fill-rule:evenodd;stroke:#FEFEBD;stroke-width:1.0px;stroke-linecap:butt;stroke-linejoin:miter;stroke-opacity:1\"/>\n",
       "<ellipse class=\"atom-2\" cx=\"200.3\" cy=\"115.3\" rx=\"7.7\" ry=\"7.7\" style=\"fill:#F7834D;fill-rule:evenodd;stroke:#F7834D;stroke-width:1.0px;stroke-linecap:butt;stroke-linejoin:miter;stroke-opacity:1\"/>\n",
       "<ellipse class=\"atom-3\" cx=\"176.1\" cy=\"145.1\" rx=\"7.7\" ry=\"7.7\" style=\"fill:#FDCC7A;fill-rule:evenodd;stroke:#FDCC7A;stroke-width:1.0px;stroke-linecap:butt;stroke-linejoin:miter;stroke-opacity:1\"/>\n",
       "<ellipse class=\"atom-4\" cx=\"138.2\" cy=\"139.1\" rx=\"7.7\" ry=\"7.7\" style=\"fill:#FDD07D;fill-rule:evenodd;stroke:#FDD07D;stroke-width:1.0px;stroke-linecap:butt;stroke-linejoin:miter;stroke-opacity:1\"/>\n",
       "<ellipse class=\"atom-5\" cx=\"124.4\" cy=\"103.2\" rx=\"7.7\" ry=\"7.7\" style=\"fill:#EF633E;fill-rule:evenodd;stroke:#EF633E;stroke-width:1.0px;stroke-linecap:butt;stroke-linejoin:miter;stroke-opacity:1\"/>\n",
       "<ellipse class=\"atom-6\" cx=\"86.5\" cy=\"97.1\" rx=\"7.7\" ry=\"7.7\" style=\"fill:#FEF7B1;fill-rule:evenodd;stroke:#FEF7B1;stroke-width:1.0px;stroke-linecap:butt;stroke-linejoin:miter;stroke-opacity:1\"/>\n",
       "<ellipse class=\"atom-7\" cx=\"97.2\" cy=\"59.3\" rx=\"13.6\" ry=\"7.9\" style=\"fill:#93D067;fill-rule:evenodd;stroke:#93D067;stroke-width:1.0px;stroke-linecap:butt;stroke-linejoin:miter;stroke-opacity:1\"/>\n",
       "<ellipse class=\"atom-8\" cx=\"80.5\" cy=\"135.1\" rx=\"7.7\" ry=\"7.7\" style=\"fill:#EF633E;fill-rule:evenodd;stroke:#EF633E;stroke-width:1.0px;stroke-linecap:butt;stroke-linejoin:miter;stroke-opacity:1\"/>\n",
       "<ellipse class=\"atom-9\" cx=\"44.6\" cy=\"148.8\" rx=\"7.7\" ry=\"7.7\" style=\"fill:#FEFBB9;fill-rule:evenodd;stroke:#FEFBB9;stroke-width:1.0px;stroke-linecap:butt;stroke-linejoin:miter;stroke-opacity:1\"/>\n",
       "<ellipse class=\"atom-10\" cx=\"38.5\" cy=\"186.7\" rx=\"7.7\" ry=\"7.7\" style=\"fill:#ECF7A5;fill-rule:evenodd;stroke:#ECF7A5;stroke-width:1.0px;stroke-linecap:butt;stroke-linejoin:miter;stroke-opacity:1\"/>\n",
       "<ellipse class=\"atom-11\" cx=\"68.3\" cy=\"210.9\" rx=\"7.7\" ry=\"7.7\" style=\"fill:#FBFDB9;fill-rule:evenodd;stroke:#FBFDB9;stroke-width:1.0px;stroke-linecap:butt;stroke-linejoin:miter;stroke-opacity:1\"/>\n",
       "<ellipse class=\"atom-12\" cx=\"104.2\" cy=\"197.2\" rx=\"7.7\" ry=\"7.7\" style=\"fill:#ECF7A5;fill-rule:evenodd;stroke:#ECF7A5;stroke-width:1.0px;stroke-linecap:butt;stroke-linejoin:miter;stroke-opacity:1\"/>\n",
       "<ellipse class=\"atom-13\" cx=\"110.3\" cy=\"159.3\" rx=\"7.7\" ry=\"7.7\" style=\"fill:#FEFBB9;fill-rule:evenodd;stroke:#FEFBB9;stroke-width:1.0px;stroke-linecap:butt;stroke-linejoin:miter;stroke-opacity:1\"/>\n",
       "<ellipse class=\"atom-14\" cx=\"48.6\" cy=\"91.1\" rx=\"7.7\" ry=\"7.7\" style=\"fill:#FDB466;fill-rule:evenodd;stroke:#FDB466;stroke-width:1.0px;stroke-linecap:butt;stroke-linejoin:miter;stroke-opacity:1\"/>\n",
       "<ellipse class=\"atom-15\" cx=\"12.7\" cy=\"104.8\" rx=\"7.7\" ry=\"7.7\" style=\"fill:#FDD884;fill-rule:evenodd;stroke:#FDD884;stroke-width:1.0px;stroke-linecap:butt;stroke-linejoin:miter;stroke-opacity:1\"/>\n",
       "<ellipse class=\"atom-16\" cx=\"18.8\" cy=\"66.9\" rx=\"7.7\" ry=\"7.7\" style=\"fill:#FDD884;fill-rule:evenodd;stroke:#FDD884;stroke-width:1.0px;stroke-linecap:butt;stroke-linejoin:miter;stroke-opacity:1\"/>\n",
       "<ellipse class=\"atom-17\" cx=\"148.6\" cy=\"73.4\" rx=\"7.7\" ry=\"7.7\" style=\"fill:#FDD07D;fill-rule:evenodd;stroke:#FDD07D;stroke-width:1.0px;stroke-linecap:butt;stroke-linejoin:miter;stroke-opacity:1\"/>\n",
       "<ellipse class=\"atom-18\" cx=\"186.6\" cy=\"79.5\" rx=\"7.7\" ry=\"7.7\" style=\"fill:#FDCC7A;fill-rule:evenodd;stroke:#FDCC7A;stroke-width:1.0px;stroke-linecap:butt;stroke-linejoin:miter;stroke-opacity:1\"/>\n",
       "<path class=\"bond-0 atom-0 atom-1\" d=\"M 251.9,157.3 L 246.4,142.8\" style=\"fill:none;fill-rule:evenodd;stroke:#000000;stroke-width:2.0px;stroke-linecap:butt;stroke-linejoin:miter;stroke-opacity:1\"/>\n",
       "<path class=\"bond-0 atom-0 atom-1\" d=\"M 246.4,142.8 L 240.9,128.3\" style=\"fill:none;fill-rule:evenodd;stroke:#FF0000;stroke-width:2.0px;stroke-linecap:butt;stroke-linejoin:miter;stroke-opacity:1\"/>\n",
       "<path class=\"bond-1 atom-1 atom-2\" d=\"M 231.9,120.4 L 216.1,117.9\" style=\"fill:none;fill-rule:evenodd;stroke:#FF0000;stroke-width:2.0px;stroke-linecap:butt;stroke-linejoin:miter;stroke-opacity:1\"/>\n",
       "<path class=\"bond-1 atom-1 atom-2\" d=\"M 216.1,117.9 L 200.3,115.3\" style=\"fill:none;fill-rule:evenodd;stroke:#000000;stroke-width:2.0px;stroke-linecap:butt;stroke-linejoin:miter;stroke-opacity:1\"/>\n",
       "<path class=\"bond-2 atom-2 atom-3\" d=\"M 200.3,115.3 L 176.1,145.1\" style=\"fill:none;fill-rule:evenodd;stroke:#000000;stroke-width:2.0px;stroke-linecap:butt;stroke-linejoin:miter;stroke-opacity:1\"/>\n",
       "<path class=\"bond-2 atom-2 atom-3\" d=\"M 190.7,115.0 L 173.7,135.8\" style=\"fill:none;fill-rule:evenodd;stroke:#000000;stroke-width:2.0px;stroke-linecap:butt;stroke-linejoin:miter;stroke-opacity:1\"/>\n",
       "<path class=\"bond-3 atom-3 atom-4\" d=\"M 176.1,145.1 L 138.2,139.1\" style=\"fill:none;fill-rule:evenodd;stroke:#000000;stroke-width:2.0px;stroke-linecap:butt;stroke-linejoin:miter;stroke-opacity:1\"/>\n",
       "<path class=\"bond-4 atom-4 atom-5\" d=\"M 138.2,139.1 L 124.4,103.2\" style=\"fill:none;fill-rule:evenodd;stroke:#000000;stroke-width:2.0px;stroke-linecap:butt;stroke-linejoin:miter;stroke-opacity:1\"/>\n",
       "<path class=\"bond-4 atom-4 atom-5\" d=\"M 143.3,131.0 L 133.7,105.8\" style=\"fill:none;fill-rule:evenodd;stroke:#000000;stroke-width:2.0px;stroke-linecap:butt;stroke-linejoin:miter;stroke-opacity:1\"/>\n",
       "<path class=\"bond-5 atom-5 atom-6\" d=\"M 124.4,103.2 L 86.5,97.1\" style=\"fill:none;fill-rule:evenodd;stroke:#000000;stroke-width:2.0px;stroke-linecap:butt;stroke-linejoin:miter;stroke-opacity:1\"/>\n",
       "<path class=\"bond-6 atom-6 atom-7\" d=\"M 86.5,97.1 L 89.0,81.7\" style=\"fill:none;fill-rule:evenodd;stroke:#000000;stroke-width:2.0px;stroke-linecap:butt;stroke-linejoin:miter;stroke-opacity:1\"/>\n",
       "<path class=\"bond-6 atom-6 atom-7\" d=\"M 89.0,81.7 L 91.5,66.2\" style=\"fill:none;fill-rule:evenodd;stroke:#FF0000;stroke-width:2.0px;stroke-linecap:butt;stroke-linejoin:miter;stroke-opacity:1\"/>\n",
       "<path class=\"bond-7 atom-6 atom-8\" d=\"M 86.5,97.1 L 80.5,135.1\" style=\"fill:none;fill-rule:evenodd;stroke:#000000;stroke-width:2.0px;stroke-linecap:butt;stroke-linejoin:miter;stroke-opacity:1\"/>\n",
       "<path class=\"bond-8 atom-8 atom-9\" d=\"M 80.5,135.1 L 44.6,148.8\" style=\"fill:none;fill-rule:evenodd;stroke:#000000;stroke-width:2.0px;stroke-linecap:butt;stroke-linejoin:miter;stroke-opacity:1\"/>\n",
       "<path class=\"bond-8 atom-8 atom-9\" d=\"M 77.8,144.3 L 52.7,153.9\" style=\"fill:none;fill-rule:evenodd;stroke:#000000;stroke-width:2.0px;stroke-linecap:butt;stroke-linejoin:miter;stroke-opacity:1\"/>\n",
       "<path class=\"bond-9 atom-9 atom-10\" d=\"M 44.6,148.8 L 42.1,164.4\" style=\"fill:none;fill-rule:evenodd;stroke:#000000;stroke-width:2.0px;stroke-linecap:butt;stroke-linejoin:miter;stroke-opacity:1\"/>\n",
       "<path class=\"bond-9 atom-9 atom-10\" d=\"M 42.1,164.4 L 39.6,180.0\" style=\"fill:none;fill-rule:evenodd;stroke:#0000FF;stroke-width:2.0px;stroke-linecap:butt;stroke-linejoin:miter;stroke-opacity:1\"/>\n",
       "<path class=\"bond-10 atom-10 atom-11\" d=\"M 43.9,191.1 L 56.1,201.0\" style=\"fill:none;fill-rule:evenodd;stroke:#0000FF;stroke-width:2.0px;stroke-linecap:butt;stroke-linejoin:miter;stroke-opacity:1\"/>\n",
       "<path class=\"bond-10 atom-10 atom-11\" d=\"M 56.1,201.0 L 68.3,210.9\" style=\"fill:none;fill-rule:evenodd;stroke:#000000;stroke-width:2.0px;stroke-linecap:butt;stroke-linejoin:miter;stroke-opacity:1\"/>\n",
       "<path class=\"bond-10 atom-10 atom-11\" d=\"M 52.4,188.1 L 61.0,195.0\" style=\"fill:none;fill-rule:evenodd;stroke:#0000FF;stroke-width:2.0px;stroke-linecap:butt;stroke-linejoin:miter;stroke-opacity:1\"/>\n",
       "<path class=\"bond-10 atom-10 atom-11\" d=\"M 61.0,195.0 L 69.5,202.0\" style=\"fill:none;fill-rule:evenodd;stroke:#000000;stroke-width:2.0px;stroke-linecap:butt;stroke-linejoin:miter;stroke-opacity:1\"/>\n",
       "<path class=\"bond-11 atom-11 atom-12\" d=\"M 68.3,210.9 L 83.6,205.1\" style=\"fill:none;fill-rule:evenodd;stroke:#000000;stroke-width:2.0px;stroke-linecap:butt;stroke-linejoin:miter;stroke-opacity:1\"/>\n",
       "<path class=\"bond-11 atom-11 atom-12\" d=\"M 83.6,205.1 L 98.8,199.3\" style=\"fill:none;fill-rule:evenodd;stroke:#0000FF;stroke-width:2.0px;stroke-linecap:butt;stroke-linejoin:miter;stroke-opacity:1\"/>\n",
       "<path class=\"bond-12 atom-12 atom-13\" d=\"M 105.3,190.5 L 107.8,174.9\" style=\"fill:none;fill-rule:evenodd;stroke:#0000FF;stroke-width:2.0px;stroke-linecap:butt;stroke-linejoin:miter;stroke-opacity:1\"/>\n",
       "<path class=\"bond-12 atom-12 atom-13\" d=\"M 107.8,174.9 L 110.3,159.3\" style=\"fill:none;fill-rule:evenodd;stroke:#000000;stroke-width:2.0px;stroke-linecap:butt;stroke-linejoin:miter;stroke-opacity:1\"/>\n",
       "<path class=\"bond-12 atom-12 atom-13\" d=\"M 98.4,184.6 L 100.2,173.7\" style=\"fill:none;fill-rule:evenodd;stroke:#0000FF;stroke-width:2.0px;stroke-linecap:butt;stroke-linejoin:miter;stroke-opacity:1\"/>\n",
       "<path class=\"bond-12 atom-12 atom-13\" d=\"M 100.2,173.7 L 101.9,162.7\" style=\"fill:none;fill-rule:evenodd;stroke:#000000;stroke-width:2.0px;stroke-linecap:butt;stroke-linejoin:miter;stroke-opacity:1\"/>\n",
       "<path class=\"bond-13 atom-6 atom-14\" d=\"M 86.5,97.1 L 48.6,91.1\" style=\"fill:none;fill-rule:evenodd;stroke:#000000;stroke-width:2.0px;stroke-linecap:butt;stroke-linejoin:miter;stroke-opacity:1\"/>\n",
       "<path class=\"bond-14 atom-14 atom-15\" d=\"M 48.6,91.1 L 12.7,104.8\" style=\"fill:none;fill-rule:evenodd;stroke:#000000;stroke-width:2.0px;stroke-linecap:butt;stroke-linejoin:miter;stroke-opacity:1\"/>\n",
       "<path class=\"bond-15 atom-15 atom-16\" d=\"M 12.7,104.8 L 18.8,66.9\" style=\"fill:none;fill-rule:evenodd;stroke:#000000;stroke-width:2.0px;stroke-linecap:butt;stroke-linejoin:miter;stroke-opacity:1\"/>\n",
       "<path class=\"bond-16 atom-5 atom-17\" d=\"M 124.4,103.2 L 148.6,73.4\" style=\"fill:none;fill-rule:evenodd;stroke:#000000;stroke-width:2.0px;stroke-linecap:butt;stroke-linejoin:miter;stroke-opacity:1\"/>\n",
       "<path class=\"bond-17 atom-17 atom-18\" d=\"M 148.6,73.4 L 186.6,79.5\" style=\"fill:none;fill-rule:evenodd;stroke:#000000;stroke-width:2.0px;stroke-linecap:butt;stroke-linejoin:miter;stroke-opacity:1\"/>\n",
       "<path class=\"bond-17 atom-17 atom-18\" d=\"M 153.1,81.9 L 179.7,86.1\" style=\"fill:none;fill-rule:evenodd;stroke:#000000;stroke-width:2.0px;stroke-linecap:butt;stroke-linejoin:miter;stroke-opacity:1\"/>\n",
       "<path class=\"bond-18 atom-18 atom-2\" d=\"M 186.6,79.5 L 200.3,115.3\" style=\"fill:none;fill-rule:evenodd;stroke:#000000;stroke-width:2.0px;stroke-linecap:butt;stroke-linejoin:miter;stroke-opacity:1\"/>\n",
       "<path class=\"bond-19 atom-13 atom-8\" d=\"M 110.3,159.3 L 80.5,135.1\" style=\"fill:none;fill-rule:evenodd;stroke:#000000;stroke-width:2.0px;stroke-linecap:butt;stroke-linejoin:miter;stroke-opacity:1\"/>\n",
       "<path class=\"bond-20 atom-16 atom-14\" d=\"M 18.8,66.9 L 48.6,91.1\" style=\"fill:none;fill-rule:evenodd;stroke:#000000;stroke-width:2.0px;stroke-linecap:butt;stroke-linejoin:miter;stroke-opacity:1\"/>\n",
       "<path class=\"atom-1\" d=\"M 233.2 121.4 Q 233.2 118.8, 234.5 117.3 Q 235.8 115.9, 238.2 115.9 Q 240.6 115.9, 241.9 117.3 Q 243.2 118.8, 243.2 121.4 Q 243.2 124.1, 241.9 125.6 Q 240.6 127.1, 238.2 127.1 Q 235.8 127.1, 234.5 125.6 Q 233.2 124.1, 233.2 121.4 M 238.2 125.8 Q 239.9 125.8, 240.7 124.7 Q 241.7 123.6, 241.7 121.4 Q 241.7 119.3, 240.7 118.2 Q 239.9 117.1, 238.2 117.1 Q 236.5 117.1, 235.6 118.2 Q 234.7 119.3, 234.7 121.4 Q 234.7 123.6, 235.6 124.7 Q 236.5 125.8, 238.2 125.8 \" fill=\"#FF0000\"/>\n",
       "<path class=\"atom-7\" d=\"M 87.6 59.3 Q 87.6 56.6, 88.9 55.2 Q 90.2 53.7, 92.6 53.7 Q 95.0 53.7, 96.3 55.2 Q 97.6 56.6, 97.6 59.3 Q 97.6 61.9, 96.3 63.4 Q 95.0 64.9, 92.6 64.9 Q 90.2 64.9, 88.9 63.4 Q 87.6 61.9, 87.6 59.3 M 92.6 63.7 Q 94.2 63.7, 95.1 62.6 Q 96.0 61.4, 96.0 59.3 Q 96.0 57.1, 95.1 56.0 Q 94.2 55.0, 92.6 55.0 Q 90.9 55.0, 90.0 56.0 Q 89.1 57.1, 89.1 59.3 Q 89.1 61.5, 90.0 62.6 Q 90.9 63.7, 92.6 63.7 \" fill=\"#FF0000\"/>\n",
       "<path class=\"atom-7\" d=\"M 98.3 53.9 L 99.8 53.9 L 99.8 58.5 L 105.4 58.5 L 105.4 53.9 L 106.8 53.9 L 106.8 64.7 L 105.4 64.7 L 105.4 59.7 L 99.8 59.7 L 99.8 64.7 L 98.3 64.7 L 98.3 53.9 \" fill=\"#FF0000\"/>\n",
       "<path class=\"atom-10\" d=\"M 36.1 181.3 L 39.7 187.0 Q 40.0 187.6, 40.6 188.6 Q 41.2 189.7, 41.2 189.7 L 41.2 181.3 L 42.7 181.3 L 42.7 192.1 L 41.2 192.1 L 37.3 185.8 Q 36.9 185.1, 36.4 184.3 Q 36.0 183.4, 35.8 183.2 L 35.8 192.1 L 34.4 192.1 L 34.4 181.3 L 36.1 181.3 \" fill=\"#0000FF\"/>\n",
       "<path class=\"atom-12\" d=\"M 101.8 191.8 L 105.4 197.5 Q 105.7 198.1, 106.3 199.1 Q 106.9 200.1, 106.9 200.2 L 106.9 191.8 L 108.3 191.8 L 108.3 202.6 L 106.8 202.6 L 103.0 196.3 Q 102.6 195.6, 102.1 194.8 Q 101.6 193.9, 101.5 193.6 L 101.5 202.6 L 100.1 202.6 L 100.1 191.8 L 101.8 191.8 \" fill=\"#0000FF\"/>\n",
       "</svg>"
      ],
      "text/plain": [
       "<IPython.core.display.SVG object>"
      ]
     },
     "metadata": {},
     "output_type": "display_data"
    },
    {
     "name": "stdout",
     "output_type": "stream",
     "text": [
      "********BRICS attribution********\n"
     ]
    },
    {
     "name": "stderr",
     "output_type": "stream",
     "text": [
      "[00:49:54] The new font size 1 is below the current minimum (6).\n"
     ]
    },
    {
     "data": {
      "image/svg+xml": [
       "<svg baseProfile=\"full\" height=\"280px\" version=\"1.1\" viewBox=\"0 0 280 280\" width=\"280px\" xml:space=\"preserve\" xmlns=\"http://www.w3.org/2000/svg\" xmlns:rdkit=\"http://www.rdkit.org/xml\" xmlns:xlink=\"http://www.w3.org/1999/xlink\">\n",
       "<!-- END OF HEADER -->\n",
       "<rect height=\"280.0\" style=\"opacity:1.0;fill:#FFFFFF;stroke:none\" width=\"280.0\" x=\"0.0\" y=\"0.0\"> </rect>\n",
       "<path class=\"bond-0 atom-0 atom-1\" d=\"M 251.9,157.3 L 238.2,121.4\" style=\"fill:none;fill-rule:evenodd;stroke:#F5FAB1;stroke-width:8.2px;stroke-linecap:butt;stroke-linejoin:miter;stroke-opacity:1\"/>\n",
       "<path class=\"bond-2 atom-2 atom-3\" d=\"M 200.3,115.3 L 176.1,145.1\" style=\"fill:none;fill-rule:evenodd;stroke:#A80326;stroke-width:8.2px;stroke-linecap:butt;stroke-linejoin:miter;stroke-opacity:1\"/>\n",
       "<path class=\"bond-18 atom-2 atom-18\" d=\"M 200.3,115.3 L 186.6,79.5\" style=\"fill:none;fill-rule:evenodd;stroke:#A80326;stroke-width:8.2px;stroke-linecap:butt;stroke-linejoin:miter;stroke-opacity:1\"/>\n",
       "<path class=\"bond-3 atom-3 atom-4\" d=\"M 176.1,145.1 L 138.2,139.1\" style=\"fill:none;fill-rule:evenodd;stroke:#A80326;stroke-width:8.2px;stroke-linecap:butt;stroke-linejoin:miter;stroke-opacity:1\"/>\n",
       "<path class=\"bond-4 atom-4 atom-5\" d=\"M 138.2,139.1 L 124.4,103.2\" style=\"fill:none;fill-rule:evenodd;stroke:#A80326;stroke-width:8.2px;stroke-linecap:butt;stroke-linejoin:miter;stroke-opacity:1\"/>\n",
       "<path class=\"bond-16 atom-5 atom-17\" d=\"M 124.4,103.2 L 148.6,73.4\" style=\"fill:none;fill-rule:evenodd;stroke:#A80326;stroke-width:8.2px;stroke-linecap:butt;stroke-linejoin:miter;stroke-opacity:1\"/>\n",
       "<path class=\"bond-6 atom-6 atom-7\" d=\"M 86.5,97.1 L 92.6,59.2\" style=\"fill:none;fill-rule:evenodd;stroke:#A4D869;stroke-width:8.2px;stroke-linecap:butt;stroke-linejoin:miter;stroke-opacity:1\"/>\n",
       "<path class=\"bond-8 atom-8 atom-9\" d=\"M 80.5,135.1 L 44.6,148.8\" style=\"fill:none;fill-rule:evenodd;stroke:#FA9A58;stroke-width:8.2px;stroke-linecap:butt;stroke-linejoin:miter;stroke-opacity:1\"/>\n",
       "<path class=\"bond-19 atom-8 atom-13\" d=\"M 80.5,135.1 L 110.3,159.3\" style=\"fill:none;fill-rule:evenodd;stroke:#FA9A58;stroke-width:8.2px;stroke-linecap:butt;stroke-linejoin:miter;stroke-opacity:1\"/>\n",
       "<path class=\"bond-9 atom-9 atom-10\" d=\"M 44.6,148.8 L 38.5,186.7\" style=\"fill:none;fill-rule:evenodd;stroke:#FA9A58;stroke-width:8.2px;stroke-linecap:butt;stroke-linejoin:miter;stroke-opacity:1\"/>\n",
       "<path class=\"bond-10 atom-10 atom-11\" d=\"M 38.5,186.7 L 68.3,210.9\" style=\"fill:none;fill-rule:evenodd;stroke:#FA9A58;stroke-width:8.2px;stroke-linecap:butt;stroke-linejoin:miter;stroke-opacity:1\"/>\n",
       "<path class=\"bond-11 atom-11 atom-12\" d=\"M 68.3,210.9 L 104.2,197.2\" style=\"fill:none;fill-rule:evenodd;stroke:#FA9A58;stroke-width:8.2px;stroke-linecap:butt;stroke-linejoin:miter;stroke-opacity:1\"/>\n",
       "<path class=\"bond-12 atom-12 atom-13\" d=\"M 104.2,197.2 L 110.3,159.3\" style=\"fill:none;fill-rule:evenodd;stroke:#FA9A58;stroke-width:8.2px;stroke-linecap:butt;stroke-linejoin:miter;stroke-opacity:1\"/>\n",
       "<path class=\"bond-14 atom-14 atom-15\" d=\"M 48.6,91.1 L 12.7,104.8\" style=\"fill:none;fill-rule:evenodd;stroke:#F46F44;stroke-width:8.2px;stroke-linecap:butt;stroke-linejoin:miter;stroke-opacity:1\"/>\n",
       "<path class=\"bond-20 atom-14 atom-16\" d=\"M 48.6,91.1 L 18.8,66.9\" style=\"fill:none;fill-rule:evenodd;stroke:#F46F44;stroke-width:8.2px;stroke-linecap:butt;stroke-linejoin:miter;stroke-opacity:1\"/>\n",
       "<path class=\"bond-15 atom-15 atom-16\" d=\"M 12.7,104.8 L 18.8,66.9\" style=\"fill:none;fill-rule:evenodd;stroke:#F46F44;stroke-width:8.2px;stroke-linecap:butt;stroke-linejoin:miter;stroke-opacity:1\"/>\n",
       "<path class=\"bond-17 atom-17 atom-18\" d=\"M 148.6,73.4 L 186.6,79.5\" style=\"fill:none;fill-rule:evenodd;stroke:#A80326;stroke-width:8.2px;stroke-linecap:butt;stroke-linejoin:miter;stroke-opacity:1\"/>\n",
       "<ellipse class=\"atom-0\" cx=\"251.9\" cy=\"157.3\" rx=\"7.7\" ry=\"7.7\" style=\"fill:#F5FAB1;fill-rule:evenodd;stroke:#F5FAB1;stroke-width:1.0px;stroke-linecap:butt;stroke-linejoin:miter;stroke-opacity:1\"/>\n",
       "<ellipse class=\"atom-1\" cx=\"238.2\" cy=\"121.5\" rx=\"7.7\" ry=\"7.9\" style=\"fill:#F5FAB1;fill-rule:evenodd;stroke:#F5FAB1;stroke-width:1.0px;stroke-linecap:butt;stroke-linejoin:miter;stroke-opacity:1\"/>\n",
       "<ellipse class=\"atom-2\" cx=\"200.3\" cy=\"115.3\" rx=\"7.7\" ry=\"7.7\" style=\"fill:#A80326;fill-rule:evenodd;stroke:#A80326;stroke-width:1.0px;stroke-linecap:butt;stroke-linejoin:miter;stroke-opacity:1\"/>\n",
       "<ellipse class=\"atom-3\" cx=\"176.1\" cy=\"145.1\" rx=\"7.7\" ry=\"7.7\" style=\"fill:#A80326;fill-rule:evenodd;stroke:#A80326;stroke-width:1.0px;stroke-linecap:butt;stroke-linejoin:miter;stroke-opacity:1\"/>\n",
       "<ellipse class=\"atom-4\" cx=\"138.2\" cy=\"139.1\" rx=\"7.7\" ry=\"7.7\" style=\"fill:#A80326;fill-rule:evenodd;stroke:#A80326;stroke-width:1.0px;stroke-linecap:butt;stroke-linejoin:miter;stroke-opacity:1\"/>\n",
       "<ellipse class=\"atom-5\" cx=\"124.4\" cy=\"103.2\" rx=\"7.7\" ry=\"7.7\" style=\"fill:#A80326;fill-rule:evenodd;stroke:#A80326;stroke-width:1.0px;stroke-linecap:butt;stroke-linejoin:miter;stroke-opacity:1\"/>\n",
       "<ellipse class=\"atom-6\" cx=\"86.5\" cy=\"97.1\" rx=\"7.7\" ry=\"7.7\" style=\"fill:#A4D869;fill-rule:evenodd;stroke:#A4D869;stroke-width:1.0px;stroke-linecap:butt;stroke-linejoin:miter;stroke-opacity:1\"/>\n",
       "<ellipse class=\"atom-7\" cx=\"97.2\" cy=\"59.3\" rx=\"13.6\" ry=\"7.9\" style=\"fill:#A4D869;fill-rule:evenodd;stroke:#A4D869;stroke-width:1.0px;stroke-linecap:butt;stroke-linejoin:miter;stroke-opacity:1\"/>\n",
       "<ellipse class=\"atom-8\" cx=\"80.5\" cy=\"135.1\" rx=\"7.7\" ry=\"7.7\" style=\"fill:#FA9A58;fill-rule:evenodd;stroke:#FA9A58;stroke-width:1.0px;stroke-linecap:butt;stroke-linejoin:miter;stroke-opacity:1\"/>\n",
       "<ellipse class=\"atom-9\" cx=\"44.6\" cy=\"148.8\" rx=\"7.7\" ry=\"7.7\" style=\"fill:#FA9A58;fill-rule:evenodd;stroke:#FA9A58;stroke-width:1.0px;stroke-linecap:butt;stroke-linejoin:miter;stroke-opacity:1\"/>\n",
       "<ellipse class=\"atom-10\" cx=\"38.5\" cy=\"186.7\" rx=\"7.7\" ry=\"7.7\" style=\"fill:#FA9A58;fill-rule:evenodd;stroke:#FA9A58;stroke-width:1.0px;stroke-linecap:butt;stroke-linejoin:miter;stroke-opacity:1\"/>\n",
       "<ellipse class=\"atom-11\" cx=\"68.3\" cy=\"210.9\" rx=\"7.7\" ry=\"7.7\" style=\"fill:#FA9A58;fill-rule:evenodd;stroke:#FA9A58;stroke-width:1.0px;stroke-linecap:butt;stroke-linejoin:miter;stroke-opacity:1\"/>\n",
       "<ellipse class=\"atom-12\" cx=\"104.2\" cy=\"197.2\" rx=\"7.7\" ry=\"7.7\" style=\"fill:#FA9A58;fill-rule:evenodd;stroke:#FA9A58;stroke-width:1.0px;stroke-linecap:butt;stroke-linejoin:miter;stroke-opacity:1\"/>\n",
       "<ellipse class=\"atom-13\" cx=\"110.3\" cy=\"159.3\" rx=\"7.7\" ry=\"7.7\" style=\"fill:#FA9A58;fill-rule:evenodd;stroke:#FA9A58;stroke-width:1.0px;stroke-linecap:butt;stroke-linejoin:miter;stroke-opacity:1\"/>\n",
       "<ellipse class=\"atom-14\" cx=\"48.6\" cy=\"91.1\" rx=\"7.7\" ry=\"7.7\" style=\"fill:#F46F44;fill-rule:evenodd;stroke:#F46F44;stroke-width:1.0px;stroke-linecap:butt;stroke-linejoin:miter;stroke-opacity:1\"/>\n",
       "<ellipse class=\"atom-15\" cx=\"12.7\" cy=\"104.8\" rx=\"7.7\" ry=\"7.7\" style=\"fill:#F46F44;fill-rule:evenodd;stroke:#F46F44;stroke-width:1.0px;stroke-linecap:butt;stroke-linejoin:miter;stroke-opacity:1\"/>\n",
       "<ellipse class=\"atom-16\" cx=\"18.8\" cy=\"66.9\" rx=\"7.7\" ry=\"7.7\" style=\"fill:#F46F44;fill-rule:evenodd;stroke:#F46F44;stroke-width:1.0px;stroke-linecap:butt;stroke-linejoin:miter;stroke-opacity:1\"/>\n",
       "<ellipse class=\"atom-17\" cx=\"148.6\" cy=\"73.4\" rx=\"7.7\" ry=\"7.7\" style=\"fill:#A80326;fill-rule:evenodd;stroke:#A80326;stroke-width:1.0px;stroke-linecap:butt;stroke-linejoin:miter;stroke-opacity:1\"/>\n",
       "<ellipse class=\"atom-18\" cx=\"186.6\" cy=\"79.5\" rx=\"7.7\" ry=\"7.7\" style=\"fill:#A80326;fill-rule:evenodd;stroke:#A80326;stroke-width:1.0px;stroke-linecap:butt;stroke-linejoin:miter;stroke-opacity:1\"/>\n",
       "<path class=\"bond-0 atom-0 atom-1\" d=\"M 251.9,157.3 L 246.4,142.8\" style=\"fill:none;fill-rule:evenodd;stroke:#000000;stroke-width:2.0px;stroke-linecap:butt;stroke-linejoin:miter;stroke-opacity:1\"/>\n",
       "<path class=\"bond-0 atom-0 atom-1\" d=\"M 246.4,142.8 L 240.9,128.3\" style=\"fill:none;fill-rule:evenodd;stroke:#FF0000;stroke-width:2.0px;stroke-linecap:butt;stroke-linejoin:miter;stroke-opacity:1\"/>\n",
       "<path class=\"bond-1 atom-1 atom-2\" d=\"M 231.9,120.4 L 216.1,117.9\" style=\"fill:none;fill-rule:evenodd;stroke:#FF0000;stroke-width:2.0px;stroke-linecap:butt;stroke-linejoin:miter;stroke-opacity:1\"/>\n",
       "<path class=\"bond-1 atom-1 atom-2\" d=\"M 216.1,117.9 L 200.3,115.3\" style=\"fill:none;fill-rule:evenodd;stroke:#000000;stroke-width:2.0px;stroke-linecap:butt;stroke-linejoin:miter;stroke-opacity:1\"/>\n",
       "<path class=\"bond-2 atom-2 atom-3\" d=\"M 200.3,115.3 L 176.1,145.1\" style=\"fill:none;fill-rule:evenodd;stroke:#000000;stroke-width:2.0px;stroke-linecap:butt;stroke-linejoin:miter;stroke-opacity:1\"/>\n",
       "<path class=\"bond-2 atom-2 atom-3\" d=\"M 190.7,115.0 L 173.7,135.8\" style=\"fill:none;fill-rule:evenodd;stroke:#000000;stroke-width:2.0px;stroke-linecap:butt;stroke-linejoin:miter;stroke-opacity:1\"/>\n",
       "<path class=\"bond-3 atom-3 atom-4\" d=\"M 176.1,145.1 L 138.2,139.1\" style=\"fill:none;fill-rule:evenodd;stroke:#000000;stroke-width:2.0px;stroke-linecap:butt;stroke-linejoin:miter;stroke-opacity:1\"/>\n",
       "<path class=\"bond-4 atom-4 atom-5\" d=\"M 138.2,139.1 L 124.4,103.2\" style=\"fill:none;fill-rule:evenodd;stroke:#000000;stroke-width:2.0px;stroke-linecap:butt;stroke-linejoin:miter;stroke-opacity:1\"/>\n",
       "<path class=\"bond-4 atom-4 atom-5\" d=\"M 143.3,131.0 L 133.7,105.8\" style=\"fill:none;fill-rule:evenodd;stroke:#000000;stroke-width:2.0px;stroke-linecap:butt;stroke-linejoin:miter;stroke-opacity:1\"/>\n",
       "<path class=\"bond-5 atom-5 atom-6\" d=\"M 124.4,103.2 L 86.5,97.1\" style=\"fill:none;fill-rule:evenodd;stroke:#000000;stroke-width:2.0px;stroke-linecap:butt;stroke-linejoin:miter;stroke-opacity:1\"/>\n",
       "<path class=\"bond-6 atom-6 atom-7\" d=\"M 86.5,97.1 L 89.0,81.7\" style=\"fill:none;fill-rule:evenodd;stroke:#000000;stroke-width:2.0px;stroke-linecap:butt;stroke-linejoin:miter;stroke-opacity:1\"/>\n",
       "<path class=\"bond-6 atom-6 atom-7\" d=\"M 89.0,81.7 L 91.5,66.2\" style=\"fill:none;fill-rule:evenodd;stroke:#FF0000;stroke-width:2.0px;stroke-linecap:butt;stroke-linejoin:miter;stroke-opacity:1\"/>\n",
       "<path class=\"bond-7 atom-6 atom-8\" d=\"M 86.5,97.1 L 80.5,135.1\" style=\"fill:none;fill-rule:evenodd;stroke:#000000;stroke-width:2.0px;stroke-linecap:butt;stroke-linejoin:miter;stroke-opacity:1\"/>\n",
       "<path class=\"bond-8 atom-8 atom-9\" d=\"M 80.5,135.1 L 44.6,148.8\" style=\"fill:none;fill-rule:evenodd;stroke:#000000;stroke-width:2.0px;stroke-linecap:butt;stroke-linejoin:miter;stroke-opacity:1\"/>\n",
       "<path class=\"bond-8 atom-8 atom-9\" d=\"M 77.8,144.3 L 52.7,153.9\" style=\"fill:none;fill-rule:evenodd;stroke:#000000;stroke-width:2.0px;stroke-linecap:butt;stroke-linejoin:miter;stroke-opacity:1\"/>\n",
       "<path class=\"bond-9 atom-9 atom-10\" d=\"M 44.6,148.8 L 42.1,164.4\" style=\"fill:none;fill-rule:evenodd;stroke:#000000;stroke-width:2.0px;stroke-linecap:butt;stroke-linejoin:miter;stroke-opacity:1\"/>\n",
       "<path class=\"bond-9 atom-9 atom-10\" d=\"M 42.1,164.4 L 39.6,180.0\" style=\"fill:none;fill-rule:evenodd;stroke:#0000FF;stroke-width:2.0px;stroke-linecap:butt;stroke-linejoin:miter;stroke-opacity:1\"/>\n",
       "<path class=\"bond-10 atom-10 atom-11\" d=\"M 43.9,191.1 L 56.1,201.0\" style=\"fill:none;fill-rule:evenodd;stroke:#0000FF;stroke-width:2.0px;stroke-linecap:butt;stroke-linejoin:miter;stroke-opacity:1\"/>\n",
       "<path class=\"bond-10 atom-10 atom-11\" d=\"M 56.1,201.0 L 68.3,210.9\" style=\"fill:none;fill-rule:evenodd;stroke:#000000;stroke-width:2.0px;stroke-linecap:butt;stroke-linejoin:miter;stroke-opacity:1\"/>\n",
       "<path class=\"bond-10 atom-10 atom-11\" d=\"M 52.4,188.1 L 61.0,195.0\" style=\"fill:none;fill-rule:evenodd;stroke:#0000FF;stroke-width:2.0px;stroke-linecap:butt;stroke-linejoin:miter;stroke-opacity:1\"/>\n",
       "<path class=\"bond-10 atom-10 atom-11\" d=\"M 61.0,195.0 L 69.5,202.0\" style=\"fill:none;fill-rule:evenodd;stroke:#000000;stroke-width:2.0px;stroke-linecap:butt;stroke-linejoin:miter;stroke-opacity:1\"/>\n",
       "<path class=\"bond-11 atom-11 atom-12\" d=\"M 68.3,210.9 L 83.6,205.1\" style=\"fill:none;fill-rule:evenodd;stroke:#000000;stroke-width:2.0px;stroke-linecap:butt;stroke-linejoin:miter;stroke-opacity:1\"/>\n",
       "<path class=\"bond-11 atom-11 atom-12\" d=\"M 83.6,205.1 L 98.8,199.3\" style=\"fill:none;fill-rule:evenodd;stroke:#0000FF;stroke-width:2.0px;stroke-linecap:butt;stroke-linejoin:miter;stroke-opacity:1\"/>\n",
       "<path class=\"bond-12 atom-12 atom-13\" d=\"M 105.3,190.5 L 107.8,174.9\" style=\"fill:none;fill-rule:evenodd;stroke:#0000FF;stroke-width:2.0px;stroke-linecap:butt;stroke-linejoin:miter;stroke-opacity:1\"/>\n",
       "<path class=\"bond-12 atom-12 atom-13\" d=\"M 107.8,174.9 L 110.3,159.3\" style=\"fill:none;fill-rule:evenodd;stroke:#000000;stroke-width:2.0px;stroke-linecap:butt;stroke-linejoin:miter;stroke-opacity:1\"/>\n",
       "<path class=\"bond-12 atom-12 atom-13\" d=\"M 98.4,184.6 L 100.2,173.7\" style=\"fill:none;fill-rule:evenodd;stroke:#0000FF;stroke-width:2.0px;stroke-linecap:butt;stroke-linejoin:miter;stroke-opacity:1\"/>\n",
       "<path class=\"bond-12 atom-12 atom-13\" d=\"M 100.2,173.7 L 101.9,162.7\" style=\"fill:none;fill-rule:evenodd;stroke:#000000;stroke-width:2.0px;stroke-linecap:butt;stroke-linejoin:miter;stroke-opacity:1\"/>\n",
       "<path class=\"bond-13 atom-6 atom-14\" d=\"M 86.5,97.1 L 48.6,91.1\" style=\"fill:none;fill-rule:evenodd;stroke:#000000;stroke-width:2.0px;stroke-linecap:butt;stroke-linejoin:miter;stroke-opacity:1\"/>\n",
       "<path class=\"bond-14 atom-14 atom-15\" d=\"M 48.6,91.1 L 12.7,104.8\" style=\"fill:none;fill-rule:evenodd;stroke:#000000;stroke-width:2.0px;stroke-linecap:butt;stroke-linejoin:miter;stroke-opacity:1\"/>\n",
       "<path class=\"bond-15 atom-15 atom-16\" d=\"M 12.7,104.8 L 18.8,66.9\" style=\"fill:none;fill-rule:evenodd;stroke:#000000;stroke-width:2.0px;stroke-linecap:butt;stroke-linejoin:miter;stroke-opacity:1\"/>\n",
       "<path class=\"bond-16 atom-5 atom-17\" d=\"M 124.4,103.2 L 148.6,73.4\" style=\"fill:none;fill-rule:evenodd;stroke:#000000;stroke-width:2.0px;stroke-linecap:butt;stroke-linejoin:miter;stroke-opacity:1\"/>\n",
       "<path class=\"bond-17 atom-17 atom-18\" d=\"M 148.6,73.4 L 186.6,79.5\" style=\"fill:none;fill-rule:evenodd;stroke:#000000;stroke-width:2.0px;stroke-linecap:butt;stroke-linejoin:miter;stroke-opacity:1\"/>\n",
       "<path class=\"bond-17 atom-17 atom-18\" d=\"M 153.1,81.9 L 179.7,86.1\" style=\"fill:none;fill-rule:evenodd;stroke:#000000;stroke-width:2.0px;stroke-linecap:butt;stroke-linejoin:miter;stroke-opacity:1\"/>\n",
       "<path class=\"bond-18 atom-18 atom-2\" d=\"M 186.6,79.5 L 200.3,115.3\" style=\"fill:none;fill-rule:evenodd;stroke:#000000;stroke-width:2.0px;stroke-linecap:butt;stroke-linejoin:miter;stroke-opacity:1\"/>\n",
       "<path class=\"bond-19 atom-13 atom-8\" d=\"M 110.3,159.3 L 80.5,135.1\" style=\"fill:none;fill-rule:evenodd;stroke:#000000;stroke-width:2.0px;stroke-linecap:butt;stroke-linejoin:miter;stroke-opacity:1\"/>\n",
       "<path class=\"bond-20 atom-16 atom-14\" d=\"M 18.8,66.9 L 48.6,91.1\" style=\"fill:none;fill-rule:evenodd;stroke:#000000;stroke-width:2.0px;stroke-linecap:butt;stroke-linejoin:miter;stroke-opacity:1\"/>\n",
       "<path class=\"atom-1\" d=\"M 233.2 121.4 Q 233.2 118.8, 234.5 117.3 Q 235.8 115.9, 238.2 115.9 Q 240.6 115.9, 241.9 117.3 Q 243.2 118.8, 243.2 121.4 Q 243.2 124.1, 241.9 125.6 Q 240.6 127.1, 238.2 127.1 Q 235.8 127.1, 234.5 125.6 Q 233.2 124.1, 233.2 121.4 M 238.2 125.8 Q 239.9 125.8, 240.7 124.7 Q 241.7 123.6, 241.7 121.4 Q 241.7 119.3, 240.7 118.2 Q 239.9 117.1, 238.2 117.1 Q 236.5 117.1, 235.6 118.2 Q 234.7 119.3, 234.7 121.4 Q 234.7 123.6, 235.6 124.7 Q 236.5 125.8, 238.2 125.8 \" fill=\"#FF0000\"/>\n",
       "<path class=\"atom-7\" d=\"M 87.6 59.3 Q 87.6 56.6, 88.9 55.2 Q 90.2 53.7, 92.6 53.7 Q 95.0 53.7, 96.3 55.2 Q 97.6 56.6, 97.6 59.3 Q 97.6 61.9, 96.3 63.4 Q 95.0 64.9, 92.6 64.9 Q 90.2 64.9, 88.9 63.4 Q 87.6 61.9, 87.6 59.3 M 92.6 63.7 Q 94.2 63.7, 95.1 62.6 Q 96.0 61.4, 96.0 59.3 Q 96.0 57.1, 95.1 56.0 Q 94.2 55.0, 92.6 55.0 Q 90.9 55.0, 90.0 56.0 Q 89.1 57.1, 89.1 59.3 Q 89.1 61.5, 90.0 62.6 Q 90.9 63.7, 92.6 63.7 \" fill=\"#FF0000\"/>\n",
       "<path class=\"atom-7\" d=\"M 98.3 53.9 L 99.8 53.9 L 99.8 58.5 L 105.4 58.5 L 105.4 53.9 L 106.8 53.9 L 106.8 64.7 L 105.4 64.7 L 105.4 59.7 L 99.8 59.7 L 99.8 64.7 L 98.3 64.7 L 98.3 53.9 \" fill=\"#FF0000\"/>\n",
       "<path class=\"atom-10\" d=\"M 36.1 181.3 L 39.7 187.0 Q 40.0 187.6, 40.6 188.6 Q 41.2 189.7, 41.2 189.7 L 41.2 181.3 L 42.7 181.3 L 42.7 192.1 L 41.2 192.1 L 37.3 185.8 Q 36.9 185.1, 36.4 184.3 Q 36.0 183.4, 35.8 183.2 L 35.8 192.1 L 34.4 192.1 L 34.4 181.3 L 36.1 181.3 \" fill=\"#0000FF\"/>\n",
       "<path class=\"atom-12\" d=\"M 101.8 191.8 L 105.4 197.5 Q 105.7 198.1, 106.3 199.1 Q 106.9 200.1, 106.9 200.2 L 106.9 191.8 L 108.3 191.8 L 108.3 202.6 L 106.8 202.6 L 103.0 196.3 Q 102.6 195.6, 102.1 194.8 Q 101.6 193.9, 101.5 193.6 L 101.5 202.6 L 100.1 202.6 L 100.1 191.8 L 101.8 191.8 \" fill=\"#0000FF\"/>\n",
       "</svg>"
      ],
      "text/plain": [
       "<IPython.core.display.SVG object>"
      ]
     },
     "metadata": {},
     "output_type": "display_data"
    },
    {
     "name": "stdout",
     "output_type": "stream",
     "text": [
      "\n",
      "********Murcko attribution********\n"
     ]
    },
    {
     "name": "stderr",
     "output_type": "stream",
     "text": [
      "[00:49:54] The new font size 1 is below the current minimum (6).\n"
     ]
    },
    {
     "data": {
      "image/svg+xml": [
       "<svg baseProfile=\"full\" height=\"280px\" version=\"1.1\" viewBox=\"0 0 280 280\" width=\"280px\" xml:space=\"preserve\" xmlns=\"http://www.w3.org/2000/svg\" xmlns:rdkit=\"http://www.rdkit.org/xml\" xmlns:xlink=\"http://www.w3.org/1999/xlink\">\n",
       "<!-- END OF HEADER -->\n",
       "<rect height=\"280.0\" style=\"opacity:1.0;fill:#FFFFFF;stroke:none\" width=\"280.0\" x=\"0.0\" y=\"0.0\"> </rect>\n",
       "<path class=\"bond-0 atom-0 atom-1\" d=\"M 251.9,157.3 L 238.2,121.4\" style=\"fill:none;fill-rule:evenodd;stroke:#F5FAB1;stroke-width:8.2px;stroke-linecap:butt;stroke-linejoin:miter;stroke-opacity:1\"/>\n",
       "<path class=\"bond-2 atom-2 atom-3\" d=\"M 200.3,115.3 L 176.1,145.1\" style=\"fill:none;fill-rule:evenodd;stroke:#A50026;stroke-width:8.2px;stroke-linecap:butt;stroke-linejoin:miter;stroke-opacity:1\"/>\n",
       "<path class=\"bond-18 atom-2 atom-18\" d=\"M 200.3,115.3 L 186.6,79.5\" style=\"fill:none;fill-rule:evenodd;stroke:#A50026;stroke-width:8.2px;stroke-linecap:butt;stroke-linejoin:miter;stroke-opacity:1\"/>\n",
       "<path class=\"bond-3 atom-3 atom-4\" d=\"M 176.1,145.1 L 138.2,139.1\" style=\"fill:none;fill-rule:evenodd;stroke:#A50026;stroke-width:8.2px;stroke-linecap:butt;stroke-linejoin:miter;stroke-opacity:1\"/>\n",
       "<path class=\"bond-4 atom-4 atom-5\" d=\"M 138.2,139.1 L 124.4,103.2\" style=\"fill:none;fill-rule:evenodd;stroke:#A50026;stroke-width:8.2px;stroke-linecap:butt;stroke-linejoin:miter;stroke-opacity:1\"/>\n",
       "<path class=\"bond-5 atom-5 atom-6\" d=\"M 124.4,103.2 L 86.5,97.1\" style=\"fill:none;fill-rule:evenodd;stroke:#A50026;stroke-width:8.2px;stroke-linecap:butt;stroke-linejoin:miter;stroke-opacity:1\"/>\n",
       "<path class=\"bond-16 atom-5 atom-17\" d=\"M 124.4,103.2 L 148.6,73.4\" style=\"fill:none;fill-rule:evenodd;stroke:#A50026;stroke-width:8.2px;stroke-linecap:butt;stroke-linejoin:miter;stroke-opacity:1\"/>\n",
       "<path class=\"bond-7 atom-6 atom-8\" d=\"M 86.5,97.1 L 80.5,135.1\" style=\"fill:none;fill-rule:evenodd;stroke:#A50026;stroke-width:8.2px;stroke-linecap:butt;stroke-linejoin:miter;stroke-opacity:1\"/>\n",
       "<path class=\"bond-13 atom-6 atom-14\" d=\"M 86.5,97.1 L 48.6,91.1\" style=\"fill:none;fill-rule:evenodd;stroke:#A50026;stroke-width:8.2px;stroke-linecap:butt;stroke-linejoin:miter;stroke-opacity:1\"/>\n",
       "<path class=\"bond-8 atom-8 atom-9\" d=\"M 80.5,135.1 L 44.6,148.8\" style=\"fill:none;fill-rule:evenodd;stroke:#A50026;stroke-width:8.2px;stroke-linecap:butt;stroke-linejoin:miter;stroke-opacity:1\"/>\n",
       "<path class=\"bond-19 atom-8 atom-13\" d=\"M 80.5,135.1 L 110.3,159.3\" style=\"fill:none;fill-rule:evenodd;stroke:#A50026;stroke-width:8.2px;stroke-linecap:butt;stroke-linejoin:miter;stroke-opacity:1\"/>\n",
       "<path class=\"bond-9 atom-9 atom-10\" d=\"M 44.6,148.8 L 38.5,186.7\" style=\"fill:none;fill-rule:evenodd;stroke:#A50026;stroke-width:8.2px;stroke-linecap:butt;stroke-linejoin:miter;stroke-opacity:1\"/>\n",
       "<path class=\"bond-10 atom-10 atom-11\" d=\"M 38.5,186.7 L 68.3,210.9\" style=\"fill:none;fill-rule:evenodd;stroke:#A50026;stroke-width:8.2px;stroke-linecap:butt;stroke-linejoin:miter;stroke-opacity:1\"/>\n",
       "<path class=\"bond-11 atom-11 atom-12\" d=\"M 68.3,210.9 L 104.2,197.2\" style=\"fill:none;fill-rule:evenodd;stroke:#A50026;stroke-width:8.2px;stroke-linecap:butt;stroke-linejoin:miter;stroke-opacity:1\"/>\n",
       "<path class=\"bond-12 atom-12 atom-13\" d=\"M 104.2,197.2 L 110.3,159.3\" style=\"fill:none;fill-rule:evenodd;stroke:#A50026;stroke-width:8.2px;stroke-linecap:butt;stroke-linejoin:miter;stroke-opacity:1\"/>\n",
       "<path class=\"bond-14 atom-14 atom-15\" d=\"M 48.6,91.1 L 12.7,104.8\" style=\"fill:none;fill-rule:evenodd;stroke:#A50026;stroke-width:8.2px;stroke-linecap:butt;stroke-linejoin:miter;stroke-opacity:1\"/>\n",
       "<path class=\"bond-20 atom-14 atom-16\" d=\"M 48.6,91.1 L 18.8,66.9\" style=\"fill:none;fill-rule:evenodd;stroke:#A50026;stroke-width:8.2px;stroke-linecap:butt;stroke-linejoin:miter;stroke-opacity:1\"/>\n",
       "<path class=\"bond-15 atom-15 atom-16\" d=\"M 12.7,104.8 L 18.8,66.9\" style=\"fill:none;fill-rule:evenodd;stroke:#A50026;stroke-width:8.2px;stroke-linecap:butt;stroke-linejoin:miter;stroke-opacity:1\"/>\n",
       "<path class=\"bond-17 atom-17 atom-18\" d=\"M 148.6,73.4 L 186.6,79.5\" style=\"fill:none;fill-rule:evenodd;stroke:#A50026;stroke-width:8.2px;stroke-linecap:butt;stroke-linejoin:miter;stroke-opacity:1\"/>\n",
       "<ellipse class=\"atom-0\" cx=\"251.9\" cy=\"157.3\" rx=\"7.7\" ry=\"7.7\" style=\"fill:#F5FAB1;fill-rule:evenodd;stroke:#F5FAB1;stroke-width:1.0px;stroke-linecap:butt;stroke-linejoin:miter;stroke-opacity:1\"/>\n",
       "<ellipse class=\"atom-1\" cx=\"238.2\" cy=\"121.5\" rx=\"7.7\" ry=\"7.9\" style=\"fill:#F5FAB1;fill-rule:evenodd;stroke:#F5FAB1;stroke-width:1.0px;stroke-linecap:butt;stroke-linejoin:miter;stroke-opacity:1\"/>\n",
       "<ellipse class=\"atom-2\" cx=\"200.3\" cy=\"115.3\" rx=\"7.7\" ry=\"7.7\" style=\"fill:#A50026;fill-rule:evenodd;stroke:#A50026;stroke-width:1.0px;stroke-linecap:butt;stroke-linejoin:miter;stroke-opacity:1\"/>\n",
       "<ellipse class=\"atom-3\" cx=\"176.1\" cy=\"145.1\" rx=\"7.7\" ry=\"7.7\" style=\"fill:#A50026;fill-rule:evenodd;stroke:#A50026;stroke-width:1.0px;stroke-linecap:butt;stroke-linejoin:miter;stroke-opacity:1\"/>\n",
       "<ellipse class=\"atom-4\" cx=\"138.2\" cy=\"139.1\" rx=\"7.7\" ry=\"7.7\" style=\"fill:#A50026;fill-rule:evenodd;stroke:#A50026;stroke-width:1.0px;stroke-linecap:butt;stroke-linejoin:miter;stroke-opacity:1\"/>\n",
       "<ellipse class=\"atom-5\" cx=\"124.4\" cy=\"103.2\" rx=\"7.7\" ry=\"7.7\" style=\"fill:#A50026;fill-rule:evenodd;stroke:#A50026;stroke-width:1.0px;stroke-linecap:butt;stroke-linejoin:miter;stroke-opacity:1\"/>\n",
       "<ellipse class=\"atom-6\" cx=\"86.5\" cy=\"97.1\" rx=\"7.7\" ry=\"7.7\" style=\"fill:#A50026;fill-rule:evenodd;stroke:#A50026;stroke-width:1.0px;stroke-linecap:butt;stroke-linejoin:miter;stroke-opacity:1\"/>\n",
       "<ellipse class=\"atom-7\" cx=\"97.2\" cy=\"59.3\" rx=\"13.6\" ry=\"7.9\" style=\"fill:#93D067;fill-rule:evenodd;stroke:#93D067;stroke-width:1.0px;stroke-linecap:butt;stroke-linejoin:miter;stroke-opacity:1\"/>\n",
       "<ellipse class=\"atom-8\" cx=\"80.5\" cy=\"135.1\" rx=\"7.7\" ry=\"7.7\" style=\"fill:#A50026;fill-rule:evenodd;stroke:#A50026;stroke-width:1.0px;stroke-linecap:butt;stroke-linejoin:miter;stroke-opacity:1\"/>\n",
       "<ellipse class=\"atom-9\" cx=\"44.6\" cy=\"148.8\" rx=\"7.7\" ry=\"7.7\" style=\"fill:#A50026;fill-rule:evenodd;stroke:#A50026;stroke-width:1.0px;stroke-linecap:butt;stroke-linejoin:miter;stroke-opacity:1\"/>\n",
       "<ellipse class=\"atom-10\" cx=\"38.5\" cy=\"186.7\" rx=\"7.7\" ry=\"7.7\" style=\"fill:#A50026;fill-rule:evenodd;stroke:#A50026;stroke-width:1.0px;stroke-linecap:butt;stroke-linejoin:miter;stroke-opacity:1\"/>\n",
       "<ellipse class=\"atom-11\" cx=\"68.3\" cy=\"210.9\" rx=\"7.7\" ry=\"7.7\" style=\"fill:#A50026;fill-rule:evenodd;stroke:#A50026;stroke-width:1.0px;stroke-linecap:butt;stroke-linejoin:miter;stroke-opacity:1\"/>\n",
       "<ellipse class=\"atom-12\" cx=\"104.2\" cy=\"197.2\" rx=\"7.7\" ry=\"7.7\" style=\"fill:#A50026;fill-rule:evenodd;stroke:#A50026;stroke-width:1.0px;stroke-linecap:butt;stroke-linejoin:miter;stroke-opacity:1\"/>\n",
       "<ellipse class=\"atom-13\" cx=\"110.3\" cy=\"159.3\" rx=\"7.7\" ry=\"7.7\" style=\"fill:#A50026;fill-rule:evenodd;stroke:#A50026;stroke-width:1.0px;stroke-linecap:butt;stroke-linejoin:miter;stroke-opacity:1\"/>\n",
       "<ellipse class=\"atom-14\" cx=\"48.6\" cy=\"91.1\" rx=\"7.7\" ry=\"7.7\" style=\"fill:#A50026;fill-rule:evenodd;stroke:#A50026;stroke-width:1.0px;stroke-linecap:butt;stroke-linejoin:miter;stroke-opacity:1\"/>\n",
       "<ellipse class=\"atom-15\" cx=\"12.7\" cy=\"104.8\" rx=\"7.7\" ry=\"7.7\" style=\"fill:#A50026;fill-rule:evenodd;stroke:#A50026;stroke-width:1.0px;stroke-linecap:butt;stroke-linejoin:miter;stroke-opacity:1\"/>\n",
       "<ellipse class=\"atom-16\" cx=\"18.8\" cy=\"66.9\" rx=\"7.7\" ry=\"7.7\" style=\"fill:#A50026;fill-rule:evenodd;stroke:#A50026;stroke-width:1.0px;stroke-linecap:butt;stroke-linejoin:miter;stroke-opacity:1\"/>\n",
       "<ellipse class=\"atom-17\" cx=\"148.6\" cy=\"73.4\" rx=\"7.7\" ry=\"7.7\" style=\"fill:#A50026;fill-rule:evenodd;stroke:#A50026;stroke-width:1.0px;stroke-linecap:butt;stroke-linejoin:miter;stroke-opacity:1\"/>\n",
       "<ellipse class=\"atom-18\" cx=\"186.6\" cy=\"79.5\" rx=\"7.7\" ry=\"7.7\" style=\"fill:#A50026;fill-rule:evenodd;stroke:#A50026;stroke-width:1.0px;stroke-linecap:butt;stroke-linejoin:miter;stroke-opacity:1\"/>\n",
       "<path class=\"bond-0 atom-0 atom-1\" d=\"M 251.9,157.3 L 246.4,142.8\" style=\"fill:none;fill-rule:evenodd;stroke:#000000;stroke-width:2.0px;stroke-linecap:butt;stroke-linejoin:miter;stroke-opacity:1\"/>\n",
       "<path class=\"bond-0 atom-0 atom-1\" d=\"M 246.4,142.8 L 240.9,128.3\" style=\"fill:none;fill-rule:evenodd;stroke:#FF0000;stroke-width:2.0px;stroke-linecap:butt;stroke-linejoin:miter;stroke-opacity:1\"/>\n",
       "<path class=\"bond-1 atom-1 atom-2\" d=\"M 231.9,120.4 L 216.1,117.9\" style=\"fill:none;fill-rule:evenodd;stroke:#FF0000;stroke-width:2.0px;stroke-linecap:butt;stroke-linejoin:miter;stroke-opacity:1\"/>\n",
       "<path class=\"bond-1 atom-1 atom-2\" d=\"M 216.1,117.9 L 200.3,115.3\" style=\"fill:none;fill-rule:evenodd;stroke:#000000;stroke-width:2.0px;stroke-linecap:butt;stroke-linejoin:miter;stroke-opacity:1\"/>\n",
       "<path class=\"bond-2 atom-2 atom-3\" d=\"M 200.3,115.3 L 176.1,145.1\" style=\"fill:none;fill-rule:evenodd;stroke:#000000;stroke-width:2.0px;stroke-linecap:butt;stroke-linejoin:miter;stroke-opacity:1\"/>\n",
       "<path class=\"bond-2 atom-2 atom-3\" d=\"M 190.7,115.0 L 173.7,135.8\" style=\"fill:none;fill-rule:evenodd;stroke:#000000;stroke-width:2.0px;stroke-linecap:butt;stroke-linejoin:miter;stroke-opacity:1\"/>\n",
       "<path class=\"bond-3 atom-3 atom-4\" d=\"M 176.1,145.1 L 138.2,139.1\" style=\"fill:none;fill-rule:evenodd;stroke:#000000;stroke-width:2.0px;stroke-linecap:butt;stroke-linejoin:miter;stroke-opacity:1\"/>\n",
       "<path class=\"bond-4 atom-4 atom-5\" d=\"M 138.2,139.1 L 124.4,103.2\" style=\"fill:none;fill-rule:evenodd;stroke:#000000;stroke-width:2.0px;stroke-linecap:butt;stroke-linejoin:miter;stroke-opacity:1\"/>\n",
       "<path class=\"bond-4 atom-4 atom-5\" d=\"M 143.3,131.0 L 133.7,105.8\" style=\"fill:none;fill-rule:evenodd;stroke:#000000;stroke-width:2.0px;stroke-linecap:butt;stroke-linejoin:miter;stroke-opacity:1\"/>\n",
       "<path class=\"bond-5 atom-5 atom-6\" d=\"M 124.4,103.2 L 86.5,97.1\" style=\"fill:none;fill-rule:evenodd;stroke:#000000;stroke-width:2.0px;stroke-linecap:butt;stroke-linejoin:miter;stroke-opacity:1\"/>\n",
       "<path class=\"bond-6 atom-6 atom-7\" d=\"M 86.5,97.1 L 89.0,81.7\" style=\"fill:none;fill-rule:evenodd;stroke:#000000;stroke-width:2.0px;stroke-linecap:butt;stroke-linejoin:miter;stroke-opacity:1\"/>\n",
       "<path class=\"bond-6 atom-6 atom-7\" d=\"M 89.0,81.7 L 91.5,66.2\" style=\"fill:none;fill-rule:evenodd;stroke:#FF0000;stroke-width:2.0px;stroke-linecap:butt;stroke-linejoin:miter;stroke-opacity:1\"/>\n",
       "<path class=\"bond-7 atom-6 atom-8\" d=\"M 86.5,97.1 L 80.5,135.1\" style=\"fill:none;fill-rule:evenodd;stroke:#000000;stroke-width:2.0px;stroke-linecap:butt;stroke-linejoin:miter;stroke-opacity:1\"/>\n",
       "<path class=\"bond-8 atom-8 atom-9\" d=\"M 80.5,135.1 L 44.6,148.8\" style=\"fill:none;fill-rule:evenodd;stroke:#000000;stroke-width:2.0px;stroke-linecap:butt;stroke-linejoin:miter;stroke-opacity:1\"/>\n",
       "<path class=\"bond-8 atom-8 atom-9\" d=\"M 77.8,144.3 L 52.7,153.9\" style=\"fill:none;fill-rule:evenodd;stroke:#000000;stroke-width:2.0px;stroke-linecap:butt;stroke-linejoin:miter;stroke-opacity:1\"/>\n",
       "<path class=\"bond-9 atom-9 atom-10\" d=\"M 44.6,148.8 L 42.1,164.4\" style=\"fill:none;fill-rule:evenodd;stroke:#000000;stroke-width:2.0px;stroke-linecap:butt;stroke-linejoin:miter;stroke-opacity:1\"/>\n",
       "<path class=\"bond-9 atom-9 atom-10\" d=\"M 42.1,164.4 L 39.6,180.0\" style=\"fill:none;fill-rule:evenodd;stroke:#0000FF;stroke-width:2.0px;stroke-linecap:butt;stroke-linejoin:miter;stroke-opacity:1\"/>\n",
       "<path class=\"bond-10 atom-10 atom-11\" d=\"M 43.9,191.1 L 56.1,201.0\" style=\"fill:none;fill-rule:evenodd;stroke:#0000FF;stroke-width:2.0px;stroke-linecap:butt;stroke-linejoin:miter;stroke-opacity:1\"/>\n",
       "<path class=\"bond-10 atom-10 atom-11\" d=\"M 56.1,201.0 L 68.3,210.9\" style=\"fill:none;fill-rule:evenodd;stroke:#000000;stroke-width:2.0px;stroke-linecap:butt;stroke-linejoin:miter;stroke-opacity:1\"/>\n",
       "<path class=\"bond-10 atom-10 atom-11\" d=\"M 52.4,188.1 L 61.0,195.0\" style=\"fill:none;fill-rule:evenodd;stroke:#0000FF;stroke-width:2.0px;stroke-linecap:butt;stroke-linejoin:miter;stroke-opacity:1\"/>\n",
       "<path class=\"bond-10 atom-10 atom-11\" d=\"M 61.0,195.0 L 69.5,202.0\" style=\"fill:none;fill-rule:evenodd;stroke:#000000;stroke-width:2.0px;stroke-linecap:butt;stroke-linejoin:miter;stroke-opacity:1\"/>\n",
       "<path class=\"bond-11 atom-11 atom-12\" d=\"M 68.3,210.9 L 83.6,205.1\" style=\"fill:none;fill-rule:evenodd;stroke:#000000;stroke-width:2.0px;stroke-linecap:butt;stroke-linejoin:miter;stroke-opacity:1\"/>\n",
       "<path class=\"bond-11 atom-11 atom-12\" d=\"M 83.6,205.1 L 98.8,199.3\" style=\"fill:none;fill-rule:evenodd;stroke:#0000FF;stroke-width:2.0px;stroke-linecap:butt;stroke-linejoin:miter;stroke-opacity:1\"/>\n",
       "<path class=\"bond-12 atom-12 atom-13\" d=\"M 105.3,190.5 L 107.8,174.9\" style=\"fill:none;fill-rule:evenodd;stroke:#0000FF;stroke-width:2.0px;stroke-linecap:butt;stroke-linejoin:miter;stroke-opacity:1\"/>\n",
       "<path class=\"bond-12 atom-12 atom-13\" d=\"M 107.8,174.9 L 110.3,159.3\" style=\"fill:none;fill-rule:evenodd;stroke:#000000;stroke-width:2.0px;stroke-linecap:butt;stroke-linejoin:miter;stroke-opacity:1\"/>\n",
       "<path class=\"bond-12 atom-12 atom-13\" d=\"M 98.4,184.6 L 100.2,173.7\" style=\"fill:none;fill-rule:evenodd;stroke:#0000FF;stroke-width:2.0px;stroke-linecap:butt;stroke-linejoin:miter;stroke-opacity:1\"/>\n",
       "<path class=\"bond-12 atom-12 atom-13\" d=\"M 100.2,173.7 L 101.9,162.7\" style=\"fill:none;fill-rule:evenodd;stroke:#000000;stroke-width:2.0px;stroke-linecap:butt;stroke-linejoin:miter;stroke-opacity:1\"/>\n",
       "<path class=\"bond-13 atom-6 atom-14\" d=\"M 86.5,97.1 L 48.6,91.1\" style=\"fill:none;fill-rule:evenodd;stroke:#000000;stroke-width:2.0px;stroke-linecap:butt;stroke-linejoin:miter;stroke-opacity:1\"/>\n",
       "<path class=\"bond-14 atom-14 atom-15\" d=\"M 48.6,91.1 L 12.7,104.8\" style=\"fill:none;fill-rule:evenodd;stroke:#000000;stroke-width:2.0px;stroke-linecap:butt;stroke-linejoin:miter;stroke-opacity:1\"/>\n",
       "<path class=\"bond-15 atom-15 atom-16\" d=\"M 12.7,104.8 L 18.8,66.9\" style=\"fill:none;fill-rule:evenodd;stroke:#000000;stroke-width:2.0px;stroke-linecap:butt;stroke-linejoin:miter;stroke-opacity:1\"/>\n",
       "<path class=\"bond-16 atom-5 atom-17\" d=\"M 124.4,103.2 L 148.6,73.4\" style=\"fill:none;fill-rule:evenodd;stroke:#000000;stroke-width:2.0px;stroke-linecap:butt;stroke-linejoin:miter;stroke-opacity:1\"/>\n",
       "<path class=\"bond-17 atom-17 atom-18\" d=\"M 148.6,73.4 L 186.6,79.5\" style=\"fill:none;fill-rule:evenodd;stroke:#000000;stroke-width:2.0px;stroke-linecap:butt;stroke-linejoin:miter;stroke-opacity:1\"/>\n",
       "<path class=\"bond-17 atom-17 atom-18\" d=\"M 153.1,81.9 L 179.7,86.1\" style=\"fill:none;fill-rule:evenodd;stroke:#000000;stroke-width:2.0px;stroke-linecap:butt;stroke-linejoin:miter;stroke-opacity:1\"/>\n",
       "<path class=\"bond-18 atom-18 atom-2\" d=\"M 186.6,79.5 L 200.3,115.3\" style=\"fill:none;fill-rule:evenodd;stroke:#000000;stroke-width:2.0px;stroke-linecap:butt;stroke-linejoin:miter;stroke-opacity:1\"/>\n",
       "<path class=\"bond-19 atom-13 atom-8\" d=\"M 110.3,159.3 L 80.5,135.1\" style=\"fill:none;fill-rule:evenodd;stroke:#000000;stroke-width:2.0px;stroke-linecap:butt;stroke-linejoin:miter;stroke-opacity:1\"/>\n",
       "<path class=\"bond-20 atom-16 atom-14\" d=\"M 18.8,66.9 L 48.6,91.1\" style=\"fill:none;fill-rule:evenodd;stroke:#000000;stroke-width:2.0px;stroke-linecap:butt;stroke-linejoin:miter;stroke-opacity:1\"/>\n",
       "<path class=\"atom-1\" d=\"M 233.2 121.4 Q 233.2 118.8, 234.5 117.3 Q 235.8 115.9, 238.2 115.9 Q 240.6 115.9, 241.9 117.3 Q 243.2 118.8, 243.2 121.4 Q 243.2 124.1, 241.9 125.6 Q 240.6 127.1, 238.2 127.1 Q 235.8 127.1, 234.5 125.6 Q 233.2 124.1, 233.2 121.4 M 238.2 125.8 Q 239.9 125.8, 240.7 124.7 Q 241.7 123.6, 241.7 121.4 Q 241.7 119.3, 240.7 118.2 Q 239.9 117.1, 238.2 117.1 Q 236.5 117.1, 235.6 118.2 Q 234.7 119.3, 234.7 121.4 Q 234.7 123.6, 235.6 124.7 Q 236.5 125.8, 238.2 125.8 \" fill=\"#FF0000\"/>\n",
       "<path class=\"atom-7\" d=\"M 87.6 59.3 Q 87.6 56.6, 88.9 55.2 Q 90.2 53.7, 92.6 53.7 Q 95.0 53.7, 96.3 55.2 Q 97.6 56.6, 97.6 59.3 Q 97.6 61.9, 96.3 63.4 Q 95.0 64.9, 92.6 64.9 Q 90.2 64.9, 88.9 63.4 Q 87.6 61.9, 87.6 59.3 M 92.6 63.7 Q 94.2 63.7, 95.1 62.6 Q 96.0 61.4, 96.0 59.3 Q 96.0 57.1, 95.1 56.0 Q 94.2 55.0, 92.6 55.0 Q 90.9 55.0, 90.0 56.0 Q 89.1 57.1, 89.1 59.3 Q 89.1 61.5, 90.0 62.6 Q 90.9 63.7, 92.6 63.7 \" fill=\"#FF0000\"/>\n",
       "<path class=\"atom-7\" d=\"M 98.3 53.9 L 99.8 53.9 L 99.8 58.5 L 105.4 58.5 L 105.4 53.9 L 106.8 53.9 L 106.8 64.7 L 105.4 64.7 L 105.4 59.7 L 99.8 59.7 L 99.8 64.7 L 98.3 64.7 L 98.3 53.9 \" fill=\"#FF0000\"/>\n",
       "<path class=\"atom-10\" d=\"M 36.1 181.3 L 39.7 187.0 Q 40.0 187.6, 40.6 188.6 Q 41.2 189.7, 41.2 189.7 L 41.2 181.3 L 42.7 181.3 L 42.7 192.1 L 41.2 192.1 L 37.3 185.8 Q 36.9 185.1, 36.4 184.3 Q 36.0 183.4, 35.8 183.2 L 35.8 192.1 L 34.4 192.1 L 34.4 181.3 L 36.1 181.3 \" fill=\"#0000FF\"/>\n",
       "<path class=\"atom-12\" d=\"M 101.8 191.8 L 105.4 197.5 Q 105.7 198.1, 106.3 199.1 Q 106.9 200.1, 106.9 200.2 L 106.9 191.8 L 108.3 191.8 L 108.3 202.6 L 106.8 202.6 L 103.0 196.3 Q 102.6 195.6, 102.1 194.8 Q 101.6 193.9, 101.5 193.6 L 101.5 202.6 L 100.1 202.6 L 100.1 191.8 L 101.8 191.8 \" fill=\"#0000FF\"/>\n",
       "</svg>"
      ],
      "text/plain": [
       "<IPython.core.display.SVG object>"
      ]
     },
     "metadata": {},
     "output_type": "display_data"
    },
    {
     "name": "stdout",
     "output_type": "stream",
     "text": [
      "\n",
      "********Functional group attribution********\n"
     ]
    },
    {
     "name": "stderr",
     "output_type": "stream",
     "text": [
      "[00:49:54] The new font size 1 is below the current minimum (6).\n"
     ]
    },
    {
     "data": {
      "image/svg+xml": [
       "<svg baseProfile=\"full\" height=\"280px\" version=\"1.1\" viewBox=\"0 0 280 280\" width=\"280px\" xml:space=\"preserve\" xmlns=\"http://www.w3.org/2000/svg\" xmlns:rdkit=\"http://www.rdkit.org/xml\" xmlns:xlink=\"http://www.w3.org/1999/xlink\">\n",
       "<!-- END OF HEADER -->\n",
       "<rect height=\"280.0\" style=\"opacity:1.0;fill:#FFFFFF;stroke:none\" width=\"280.0\" x=\"0.0\" y=\"0.0\"> </rect>\n",
       "<path class=\"bond-0 atom-0 atom-1\" d=\"M 251.9,164.9 L 238.2,129.1\" style=\"fill:none;fill-rule:evenodd;stroke:#F5FAB1;stroke-width:8.2px;stroke-linecap:butt;stroke-linejoin:miter;stroke-opacity:1\"/>\n",
       "<path class=\"bond-14 atom-14 atom-15\" d=\"M 48.6,98.8 L 12.7,112.5\" style=\"fill:none;fill-rule:evenodd;stroke:#F46F44;stroke-width:8.2px;stroke-linecap:butt;stroke-linejoin:miter;stroke-opacity:1\"/>\n",
       "<path class=\"bond-20 atom-14 atom-16\" d=\"M 48.6,98.8 L 18.8,74.6\" style=\"fill:none;fill-rule:evenodd;stroke:#F46F44;stroke-width:8.2px;stroke-linecap:butt;stroke-linejoin:miter;stroke-opacity:1\"/>\n",
       "<path class=\"bond-15 atom-15 atom-16\" d=\"M 12.7,112.5 L 18.8,74.6\" style=\"fill:none;fill-rule:evenodd;stroke:#F46F44;stroke-width:8.2px;stroke-linecap:butt;stroke-linejoin:miter;stroke-opacity:1\"/>\n",
       "<ellipse class=\"atom-0\" cx=\"251.9\" cy=\"164.9\" rx=\"7.7\" ry=\"7.7\" style=\"fill:#F5FAB1;fill-rule:evenodd;stroke:#F5FAB1;stroke-width:1.0px;stroke-linecap:butt;stroke-linejoin:miter;stroke-opacity:1\"/>\n",
       "<ellipse class=\"atom-1\" cx=\"238.2\" cy=\"129.2\" rx=\"7.7\" ry=\"7.9\" style=\"fill:#F5FAB1;fill-rule:evenodd;stroke:#F5FAB1;stroke-width:1.0px;stroke-linecap:butt;stroke-linejoin:miter;stroke-opacity:1\"/>\n",
       "<ellipse class=\"atom-7\" cx=\"97.2\" cy=\"67.0\" rx=\"13.6\" ry=\"7.9\" style=\"fill:#93D067;fill-rule:evenodd;stroke:#93D067;stroke-width:1.0px;stroke-linecap:butt;stroke-linejoin:miter;stroke-opacity:1\"/>\n",
       "<ellipse class=\"atom-14\" cx=\"48.6\" cy=\"98.8\" rx=\"7.7\" ry=\"7.7\" style=\"fill:#F46F44;fill-rule:evenodd;stroke:#F46F44;stroke-width:1.0px;stroke-linecap:butt;stroke-linejoin:miter;stroke-opacity:1\"/>\n",
       "<ellipse class=\"atom-15\" cx=\"12.7\" cy=\"112.5\" rx=\"7.7\" ry=\"7.7\" style=\"fill:#F46F44;fill-rule:evenodd;stroke:#F46F44;stroke-width:1.0px;stroke-linecap:butt;stroke-linejoin:miter;stroke-opacity:1\"/>\n",
       "<ellipse class=\"atom-16\" cx=\"18.8\" cy=\"74.6\" rx=\"7.7\" ry=\"7.7\" style=\"fill:#F46F44;fill-rule:evenodd;stroke:#F46F44;stroke-width:1.0px;stroke-linecap:butt;stroke-linejoin:miter;stroke-opacity:1\"/>\n",
       "<path class=\"bond-0 atom-0 atom-1\" d=\"M 251.9,164.9 L 246.4,150.5\" style=\"fill:none;fill-rule:evenodd;stroke:#000000;stroke-width:2.0px;stroke-linecap:butt;stroke-linejoin:miter;stroke-opacity:1\"/>\n",
       "<path class=\"bond-0 atom-0 atom-1\" d=\"M 246.4,150.5 L 240.9,136.0\" style=\"fill:none;fill-rule:evenodd;stroke:#FF0000;stroke-width:2.0px;stroke-linecap:butt;stroke-linejoin:miter;stroke-opacity:1\"/>\n",
       "<path class=\"bond-1 atom-1 atom-2\" d=\"M 231.9,128.1 L 216.1,125.5\" style=\"fill:none;fill-rule:evenodd;stroke:#FF0000;stroke-width:2.0px;stroke-linecap:butt;stroke-linejoin:miter;stroke-opacity:1\"/>\n",
       "<path class=\"bond-1 atom-1 atom-2\" d=\"M 216.1,125.5 L 200.3,123.0\" style=\"fill:none;fill-rule:evenodd;stroke:#000000;stroke-width:2.0px;stroke-linecap:butt;stroke-linejoin:miter;stroke-opacity:1\"/>\n",
       "<path class=\"bond-2 atom-2 atom-3\" d=\"M 200.3,123.0 L 176.1,152.8\" style=\"fill:none;fill-rule:evenodd;stroke:#000000;stroke-width:2.0px;stroke-linecap:butt;stroke-linejoin:miter;stroke-opacity:1\"/>\n",
       "<path class=\"bond-2 atom-2 atom-3\" d=\"M 190.7,122.6 L 173.7,143.5\" style=\"fill:none;fill-rule:evenodd;stroke:#000000;stroke-width:2.0px;stroke-linecap:butt;stroke-linejoin:miter;stroke-opacity:1\"/>\n",
       "<path class=\"bond-3 atom-3 atom-4\" d=\"M 176.1,152.8 L 138.2,146.8\" style=\"fill:none;fill-rule:evenodd;stroke:#000000;stroke-width:2.0px;stroke-linecap:butt;stroke-linejoin:miter;stroke-opacity:1\"/>\n",
       "<path class=\"bond-4 atom-4 atom-5\" d=\"M 138.2,146.8 L 124.4,110.9\" style=\"fill:none;fill-rule:evenodd;stroke:#000000;stroke-width:2.0px;stroke-linecap:butt;stroke-linejoin:miter;stroke-opacity:1\"/>\n",
       "<path class=\"bond-4 atom-4 atom-5\" d=\"M 143.3,138.6 L 133.7,113.5\" style=\"fill:none;fill-rule:evenodd;stroke:#000000;stroke-width:2.0px;stroke-linecap:butt;stroke-linejoin:miter;stroke-opacity:1\"/>\n",
       "<path class=\"bond-5 atom-5 atom-6\" d=\"M 124.4,110.9 L 86.5,104.8\" style=\"fill:none;fill-rule:evenodd;stroke:#000000;stroke-width:2.0px;stroke-linecap:butt;stroke-linejoin:miter;stroke-opacity:1\"/>\n",
       "<path class=\"bond-6 atom-6 atom-7\" d=\"M 86.5,104.8 L 89.0,89.3\" style=\"fill:none;fill-rule:evenodd;stroke:#000000;stroke-width:2.0px;stroke-linecap:butt;stroke-linejoin:miter;stroke-opacity:1\"/>\n",
       "<path class=\"bond-6 atom-6 atom-7\" d=\"M 89.0,89.3 L 91.5,73.8\" style=\"fill:none;fill-rule:evenodd;stroke:#FF0000;stroke-width:2.0px;stroke-linecap:butt;stroke-linejoin:miter;stroke-opacity:1\"/>\n",
       "<path class=\"bond-7 atom-6 atom-8\" d=\"M 86.5,104.8 L 80.5,142.7\" style=\"fill:none;fill-rule:evenodd;stroke:#000000;stroke-width:2.0px;stroke-linecap:butt;stroke-linejoin:miter;stroke-opacity:1\"/>\n",
       "<path class=\"bond-8 atom-8 atom-9\" d=\"M 80.5,142.7 L 44.6,156.5\" style=\"fill:none;fill-rule:evenodd;stroke:#000000;stroke-width:2.0px;stroke-linecap:butt;stroke-linejoin:miter;stroke-opacity:1\"/>\n",
       "<path class=\"bond-8 atom-8 atom-9\" d=\"M 77.8,152.0 L 52.7,161.6\" style=\"fill:none;fill-rule:evenodd;stroke:#000000;stroke-width:2.0px;stroke-linecap:butt;stroke-linejoin:miter;stroke-opacity:1\"/>\n",
       "<path class=\"bond-9 atom-9 atom-10\" d=\"M 44.6,156.5 L 42.1,172.1\" style=\"fill:none;fill-rule:evenodd;stroke:#000000;stroke-width:2.0px;stroke-linecap:butt;stroke-linejoin:miter;stroke-opacity:1\"/>\n",
       "<path class=\"bond-9 atom-9 atom-10\" d=\"M 42.1,172.1 L 39.6,187.7\" style=\"fill:none;fill-rule:evenodd;stroke:#0000FF;stroke-width:2.0px;stroke-linecap:butt;stroke-linejoin:miter;stroke-opacity:1\"/>\n",
       "<path class=\"bond-10 atom-10 atom-11\" d=\"M 43.9,198.8 L 56.1,208.7\" style=\"fill:none;fill-rule:evenodd;stroke:#0000FF;stroke-width:2.0px;stroke-linecap:butt;stroke-linejoin:miter;stroke-opacity:1\"/>\n",
       "<path class=\"bond-10 atom-10 atom-11\" d=\"M 56.1,208.7 L 68.3,218.6\" style=\"fill:none;fill-rule:evenodd;stroke:#000000;stroke-width:2.0px;stroke-linecap:butt;stroke-linejoin:miter;stroke-opacity:1\"/>\n",
       "<path class=\"bond-10 atom-10 atom-11\" d=\"M 52.4,195.8 L 61.0,202.7\" style=\"fill:none;fill-rule:evenodd;stroke:#0000FF;stroke-width:2.0px;stroke-linecap:butt;stroke-linejoin:miter;stroke-opacity:1\"/>\n",
       "<path class=\"bond-10 atom-10 atom-11\" d=\"M 61.0,202.7 L 69.5,209.7\" style=\"fill:none;fill-rule:evenodd;stroke:#000000;stroke-width:2.0px;stroke-linecap:butt;stroke-linejoin:miter;stroke-opacity:1\"/>\n",
       "<path class=\"bond-11 atom-11 atom-12\" d=\"M 68.3,218.6 L 83.6,212.8\" style=\"fill:none;fill-rule:evenodd;stroke:#000000;stroke-width:2.0px;stroke-linecap:butt;stroke-linejoin:miter;stroke-opacity:1\"/>\n",
       "<path class=\"bond-11 atom-11 atom-12\" d=\"M 83.6,212.8 L 98.8,206.9\" style=\"fill:none;fill-rule:evenodd;stroke:#0000FF;stroke-width:2.0px;stroke-linecap:butt;stroke-linejoin:miter;stroke-opacity:1\"/>\n",
       "<path class=\"bond-12 atom-12 atom-13\" d=\"M 105.3,198.2 L 107.8,182.6\" style=\"fill:none;fill-rule:evenodd;stroke:#0000FF;stroke-width:2.0px;stroke-linecap:butt;stroke-linejoin:miter;stroke-opacity:1\"/>\n",
       "<path class=\"bond-12 atom-12 atom-13\" d=\"M 107.8,182.6 L 110.3,167.0\" style=\"fill:none;fill-rule:evenodd;stroke:#000000;stroke-width:2.0px;stroke-linecap:butt;stroke-linejoin:miter;stroke-opacity:1\"/>\n",
       "<path class=\"bond-12 atom-12 atom-13\" d=\"M 98.4,192.3 L 100.2,181.4\" style=\"fill:none;fill-rule:evenodd;stroke:#0000FF;stroke-width:2.0px;stroke-linecap:butt;stroke-linejoin:miter;stroke-opacity:1\"/>\n",
       "<path class=\"bond-12 atom-12 atom-13\" d=\"M 100.2,181.4 L 101.9,170.4\" style=\"fill:none;fill-rule:evenodd;stroke:#000000;stroke-width:2.0px;stroke-linecap:butt;stroke-linejoin:miter;stroke-opacity:1\"/>\n",
       "<path class=\"bond-13 atom-6 atom-14\" d=\"M 86.5,104.8 L 48.6,98.8\" style=\"fill:none;fill-rule:evenodd;stroke:#000000;stroke-width:2.0px;stroke-linecap:butt;stroke-linejoin:miter;stroke-opacity:1\"/>\n",
       "<path class=\"bond-14 atom-14 atom-15\" d=\"M 48.6,98.8 L 12.7,112.5\" style=\"fill:none;fill-rule:evenodd;stroke:#000000;stroke-width:2.0px;stroke-linecap:butt;stroke-linejoin:miter;stroke-opacity:1\"/>\n",
       "<path class=\"bond-15 atom-15 atom-16\" d=\"M 12.7,112.5 L 18.8,74.6\" style=\"fill:none;fill-rule:evenodd;stroke:#000000;stroke-width:2.0px;stroke-linecap:butt;stroke-linejoin:miter;stroke-opacity:1\"/>\n",
       "<path class=\"bond-16 atom-5 atom-17\" d=\"M 124.4,110.9 L 148.6,81.1\" style=\"fill:none;fill-rule:evenodd;stroke:#000000;stroke-width:2.0px;stroke-linecap:butt;stroke-linejoin:miter;stroke-opacity:1\"/>\n",
       "<path class=\"bond-17 atom-17 atom-18\" d=\"M 148.6,81.1 L 186.6,87.1\" style=\"fill:none;fill-rule:evenodd;stroke:#000000;stroke-width:2.0px;stroke-linecap:butt;stroke-linejoin:miter;stroke-opacity:1\"/>\n",
       "<path class=\"bond-17 atom-17 atom-18\" d=\"M 153.1,89.6 L 179.7,93.8\" style=\"fill:none;fill-rule:evenodd;stroke:#000000;stroke-width:2.0px;stroke-linecap:butt;stroke-linejoin:miter;stroke-opacity:1\"/>\n",
       "<path class=\"bond-18 atom-18 atom-2\" d=\"M 186.6,87.1 L 200.3,123.0\" style=\"fill:none;fill-rule:evenodd;stroke:#000000;stroke-width:2.0px;stroke-linecap:butt;stroke-linejoin:miter;stroke-opacity:1\"/>\n",
       "<path class=\"bond-19 atom-13 atom-8\" d=\"M 110.3,167.0 L 80.5,142.7\" style=\"fill:none;fill-rule:evenodd;stroke:#000000;stroke-width:2.0px;stroke-linecap:butt;stroke-linejoin:miter;stroke-opacity:1\"/>\n",
       "<path class=\"bond-20 atom-16 atom-14\" d=\"M 18.8,74.6 L 48.6,98.8\" style=\"fill:none;fill-rule:evenodd;stroke:#000000;stroke-width:2.0px;stroke-linecap:butt;stroke-linejoin:miter;stroke-opacity:1\"/>\n",
       "<path class=\"atom-1\" d=\"M 233.2 129.1 Q 233.2 126.5, 234.5 125.0 Q 235.8 123.6, 238.2 123.6 Q 240.6 123.6, 241.9 125.0 Q 243.2 126.5, 243.2 129.1 Q 243.2 131.7, 241.9 133.2 Q 240.6 134.7, 238.2 134.7 Q 235.8 134.7, 234.5 133.2 Q 233.2 131.8, 233.2 129.1 M 238.2 133.5 Q 239.9 133.5, 240.7 132.4 Q 241.7 131.3, 241.7 129.1 Q 241.7 127.0, 240.7 125.9 Q 239.9 124.8, 238.2 124.8 Q 236.5 124.8, 235.6 125.9 Q 234.7 126.9, 234.7 129.1 Q 234.7 131.3, 235.6 132.4 Q 236.5 133.5, 238.2 133.5 \" fill=\"#FF0000\"/>\n",
       "<path class=\"atom-7\" d=\"M 87.6 66.9 Q 87.6 64.3, 88.9 62.9 Q 90.2 61.4, 92.6 61.4 Q 95.0 61.4, 96.3 62.9 Q 97.6 64.3, 97.6 66.9 Q 97.6 69.6, 96.3 71.1 Q 95.0 72.6, 92.6 72.6 Q 90.2 72.6, 88.9 71.1 Q 87.6 69.6, 87.6 66.9 M 92.6 71.3 Q 94.2 71.3, 95.1 70.2 Q 96.0 69.1, 96.0 66.9 Q 96.0 64.8, 95.1 63.7 Q 94.2 62.6, 92.6 62.6 Q 90.9 62.6, 90.0 63.7 Q 89.1 64.8, 89.1 66.9 Q 89.1 69.1, 90.0 70.2 Q 90.9 71.3, 92.6 71.3 \" fill=\"#FF0000\"/>\n",
       "<path class=\"atom-7\" d=\"M 98.3 61.5 L 99.8 61.5 L 99.8 66.2 L 105.4 66.2 L 105.4 61.5 L 106.8 61.5 L 106.8 72.4 L 105.4 72.4 L 105.4 67.4 L 99.8 67.4 L 99.8 72.4 L 98.3 72.4 L 98.3 61.5 \" fill=\"#FF0000\"/>\n",
       "<path class=\"atom-10\" d=\"M 36.1 188.9 L 39.7 194.7 Q 40.0 195.3, 40.6 196.3 Q 41.2 197.3, 41.2 197.4 L 41.2 188.9 L 42.7 188.9 L 42.7 199.8 L 41.2 199.8 L 37.3 193.5 Q 36.9 192.8, 36.4 191.9 Q 36.0 191.1, 35.8 190.8 L 35.8 199.8 L 34.4 199.8 L 34.4 188.9 L 36.1 188.9 \" fill=\"#0000FF\"/>\n",
       "<path class=\"atom-12\" d=\"M 101.8 199.4 L 105.4 205.2 Q 105.7 205.8, 106.3 206.8 Q 106.9 207.8, 106.9 207.9 L 106.9 199.4 L 108.3 199.4 L 108.3 210.3 L 106.8 210.3 L 103.0 204.0 Q 102.6 203.3, 102.1 202.4 Q 101.6 201.6, 101.5 201.3 L 101.5 210.3 L 100.1 210.3 L 100.1 199.4 L 101.8 199.4 \" fill=\"#0000FF\"/>\n",
       "</svg>"
      ],
      "text/plain": [
       "<IPython.core.display.SVG object>"
      ]
     },
     "metadata": {},
     "output_type": "display_data"
    },
    {
     "name": "stdout",
     "output_type": "stream",
     "text": [
      "\n",
      "******************************************\n",
      "*********************CC1CCC(C(C)C)C(O)C1*********************\n",
      "prediction: -2.6372987747192385\n",
      "label: -2.5299999713897705\n",
      "********atom attribution********\n"
     ]
    },
    {
     "name": "stderr",
     "output_type": "stream",
     "text": [
      "[00:49:54] The new font size 1 is below the current minimum (6).\n"
     ]
    },
    {
     "data": {
      "image/svg+xml": [
       "<svg baseProfile=\"full\" height=\"280px\" version=\"1.1\" viewBox=\"0 0 280 280\" width=\"280px\" xml:space=\"preserve\" xmlns=\"http://www.w3.org/2000/svg\" xmlns:rdkit=\"http://www.rdkit.org/xml\" xmlns:xlink=\"http://www.w3.org/1999/xlink\">\n",
       "<!-- END OF HEADER -->\n",
       "<rect height=\"280.0\" style=\"opacity:1.0;fill:#FFFFFF;stroke:none\" width=\"280.0\" x=\"0.0\" y=\"0.0\"> </rect>\n",
       "<ellipse class=\"atom-0\" cx=\"12.7\" cy=\"117.9\" rx=\"10.3\" ry=\"10.3\" style=\"fill:#F89053;fill-rule:evenodd;stroke:#F89053;stroke-width:1.0px;stroke-linecap:butt;stroke-linejoin:miter;stroke-opacity:1\"/>\n",
       "<ellipse class=\"atom-1\" cx=\"64.2\" cy=\"115.0\" rx=\"10.3\" ry=\"10.3\" style=\"fill:#F26A41;fill-rule:evenodd;stroke:#F26A41;stroke-width:1.0px;stroke-linecap:butt;stroke-linejoin:miter;stroke-opacity:1\"/>\n",
       "<ellipse class=\"atom-2\" cx=\"87.4\" cy=\"69.0\" rx=\"10.3\" ry=\"10.3\" style=\"fill:#F88B51;fill-rule:evenodd;stroke:#F88B51;stroke-width:1.0px;stroke-linecap:butt;stroke-linejoin:miter;stroke-opacity:1\"/>\n",
       "<ellipse class=\"atom-3\" cx=\"138.8\" cy=\"66.1\" rx=\"10.3\" ry=\"10.3\" style=\"fill:#F89053;fill-rule:evenodd;stroke:#F89053;stroke-width:1.0px;stroke-linecap:butt;stroke-linejoin:miter;stroke-opacity:1\"/>\n",
       "<ellipse class=\"atom-4\" cx=\"167.0\" cy=\"109.2\" rx=\"10.3\" ry=\"10.3\" style=\"fill:#F89053;fill-rule:evenodd;stroke:#F89053;stroke-width:1.0px;stroke-linecap:butt;stroke-linejoin:miter;stroke-opacity:1\"/>\n",
       "<ellipse class=\"atom-5\" cx=\"218.5\" cy=\"106.4\" rx=\"10.3\" ry=\"10.3\" style=\"fill:#F46D43;fill-rule:evenodd;stroke:#F46D43;stroke-width:1.0px;stroke-linecap:butt;stroke-linejoin:miter;stroke-opacity:1\"/>\n",
       "<ellipse class=\"atom-6\" cx=\"246.7\" cy=\"149.5\" rx=\"10.3\" ry=\"10.3\" style=\"fill:#F7894F;fill-rule:evenodd;stroke:#F7894F;stroke-width:1.0px;stroke-linecap:butt;stroke-linejoin:miter;stroke-opacity:1\"/>\n",
       "<ellipse class=\"atom-7\" cx=\"241.7\" cy=\"60.4\" rx=\"10.3\" ry=\"10.3\" style=\"fill:#F7894F;fill-rule:evenodd;stroke:#F7894F;stroke-width:1.0px;stroke-linecap:butt;stroke-linejoin:miter;stroke-opacity:1\"/>\n",
       "<ellipse class=\"atom-8\" cx=\"143.8\" cy=\"155.2\" rx=\"10.3\" ry=\"10.3\" style=\"fill:#FBFDB9;fill-rule:evenodd;stroke:#FBFDB9;stroke-width:1.0px;stroke-linecap:butt;stroke-linejoin:miter;stroke-opacity:1\"/>\n",
       "<ellipse class=\"atom-9\" cx=\"178.2\" cy=\"198.4\" rx=\"18.3\" ry=\"10.6\" style=\"fill:#046F3A;fill-rule:evenodd;stroke:#046F3A;stroke-width:1.0px;stroke-linecap:butt;stroke-linejoin:miter;stroke-opacity:1\"/>\n",
       "<ellipse class=\"atom-10\" cx=\"92.4\" cy=\"158.1\" rx=\"10.3\" ry=\"10.3\" style=\"fill:#FCAC60;fill-rule:evenodd;stroke:#FCAC60;stroke-width:1.0px;stroke-linecap:butt;stroke-linejoin:miter;stroke-opacity:1\"/>\n",
       "<path class=\"bond-0 atom-0 atom-1\" d=\"M 12.7,117.9 L 64.2,115.0\" style=\"fill:none;fill-rule:evenodd;stroke:#000000;stroke-width:2.0px;stroke-linecap:butt;stroke-linejoin:miter;stroke-opacity:1\"/>\n",
       "<path class=\"bond-1 atom-1 atom-2\" d=\"M 64.2,115.0 L 87.4,69.0\" style=\"fill:none;fill-rule:evenodd;stroke:#000000;stroke-width:2.0px;stroke-linecap:butt;stroke-linejoin:miter;stroke-opacity:1\"/>\n",
       "<path class=\"bond-2 atom-2 atom-3\" d=\"M 87.4,69.0 L 138.8,66.1\" style=\"fill:none;fill-rule:evenodd;stroke:#000000;stroke-width:2.0px;stroke-linecap:butt;stroke-linejoin:miter;stroke-opacity:1\"/>\n",
       "<path class=\"bond-3 atom-3 atom-4\" d=\"M 138.8,66.1 L 167.0,109.2\" style=\"fill:none;fill-rule:evenodd;stroke:#000000;stroke-width:2.0px;stroke-linecap:butt;stroke-linejoin:miter;stroke-opacity:1\"/>\n",
       "<path class=\"bond-4 atom-4 atom-5\" d=\"M 167.0,109.2 L 218.5,106.4\" style=\"fill:none;fill-rule:evenodd;stroke:#000000;stroke-width:2.0px;stroke-linecap:butt;stroke-linejoin:miter;stroke-opacity:1\"/>\n",
       "<path class=\"bond-5 atom-5 atom-6\" d=\"M 218.5,106.4 L 246.7,149.5\" style=\"fill:none;fill-rule:evenodd;stroke:#000000;stroke-width:2.0px;stroke-linecap:butt;stroke-linejoin:miter;stroke-opacity:1\"/>\n",
       "<path class=\"bond-6 atom-5 atom-7\" d=\"M 218.5,106.4 L 241.7,60.4\" style=\"fill:none;fill-rule:evenodd;stroke:#000000;stroke-width:2.0px;stroke-linecap:butt;stroke-linejoin:miter;stroke-opacity:1\"/>\n",
       "<path class=\"bond-7 atom-4 atom-8\" d=\"M 167.0,109.2 L 143.8,155.2\" style=\"fill:none;fill-rule:evenodd;stroke:#000000;stroke-width:2.0px;stroke-linecap:butt;stroke-linejoin:miter;stroke-opacity:1\"/>\n",
       "<path class=\"bond-8 atom-8 atom-9\" d=\"M 143.8,155.2 L 154.9,172.2\" style=\"fill:none;fill-rule:evenodd;stroke:#000000;stroke-width:2.0px;stroke-linecap:butt;stroke-linejoin:miter;stroke-opacity:1\"/>\n",
       "<path class=\"bond-8 atom-8 atom-9\" d=\"M 154.9,172.2 L 166.1,189.2\" style=\"fill:none;fill-rule:evenodd;stroke:#FF0000;stroke-width:2.0px;stroke-linecap:butt;stroke-linejoin:miter;stroke-opacity:1\"/>\n",
       "<path class=\"bond-9 atom-8 atom-10\" d=\"M 143.8,155.2 L 92.4,158.1\" style=\"fill:none;fill-rule:evenodd;stroke:#000000;stroke-width:2.0px;stroke-linecap:butt;stroke-linejoin:miter;stroke-opacity:1\"/>\n",
       "<path class=\"bond-10 atom-10 atom-1\" d=\"M 92.4,158.1 L 64.2,115.0\" style=\"fill:none;fill-rule:evenodd;stroke:#000000;stroke-width:2.0px;stroke-linecap:butt;stroke-linejoin:miter;stroke-opacity:1\"/>\n",
       "<path class=\"atom-9\" d=\"M 165.3 198.4 Q 165.3 194.9, 167.1 192.9 Q 168.8 190.9, 172.0 190.9 Q 175.3 190.9, 177.0 192.9 Q 178.7 194.9, 178.7 198.4 Q 178.7 201.9, 177.0 203.9 Q 175.2 205.9, 172.0 205.9 Q 168.8 205.9, 167.1 203.9 Q 165.3 201.9, 165.3 198.4 M 172.0 204.3 Q 174.2 204.3, 175.4 202.8 Q 176.7 201.3, 176.7 198.4 Q 176.7 195.5, 175.4 194.1 Q 174.2 192.6, 172.0 192.6 Q 169.8 192.6, 168.6 194.0 Q 167.4 195.5, 167.4 198.4 Q 167.4 201.3, 168.6 202.8 Q 169.8 204.3, 172.0 204.3 \" fill=\"#FF0000\"/>\n",
       "<path class=\"atom-9\" d=\"M 179.7 191.1 L 181.7 191.1 L 181.7 197.3 L 189.2 197.3 L 189.2 191.1 L 191.2 191.1 L 191.2 205.7 L 189.2 205.7 L 189.2 199.0 L 181.7 199.0 L 181.7 205.7 L 179.7 205.7 L 179.7 191.1 \" fill=\"#FF0000\"/>\n",
       "</svg>"
      ],
      "text/plain": [
       "<IPython.core.display.SVG object>"
      ]
     },
     "metadata": {},
     "output_type": "display_data"
    },
    {
     "name": "stdout",
     "output_type": "stream",
     "text": [
      "********BRICS attribution********\n"
     ]
    },
    {
     "name": "stderr",
     "output_type": "stream",
     "text": [
      "[00:49:54] The new font size 1 is below the current minimum (6).\n"
     ]
    },
    {
     "data": {
      "image/svg+xml": [
       "<svg baseProfile=\"full\" height=\"280px\" version=\"1.1\" viewBox=\"0 0 280 280\" width=\"280px\" xml:space=\"preserve\" xmlns=\"http://www.w3.org/2000/svg\" xmlns:rdkit=\"http://www.rdkit.org/xml\" xmlns:xlink=\"http://www.w3.org/1999/xlink\">\n",
       "<!-- END OF HEADER -->\n",
       "<rect height=\"280.0\" style=\"opacity:1.0;fill:#FFFFFF;stroke:none\" width=\"280.0\" x=\"0.0\" y=\"0.0\"> </rect>\n",
       "<path class=\"bond-0 atom-0 atom-1\" d=\"M 12.7,117.9 L 64.2,115.0\" style=\"fill:none;fill-rule:evenodd;stroke:#CA2326;stroke-width:11.0px;stroke-linecap:butt;stroke-linejoin:miter;stroke-opacity:1\"/>\n",
       "<path class=\"bond-1 atom-1 atom-2\" d=\"M 64.2,115.0 L 87.4,69.0\" style=\"fill:none;fill-rule:evenodd;stroke:#CA2326;stroke-width:11.0px;stroke-linecap:butt;stroke-linejoin:miter;stroke-opacity:1\"/>\n",
       "<path class=\"bond-10 atom-1 atom-10\" d=\"M 64.2,115.0 L 92.4,158.1\" style=\"fill:none;fill-rule:evenodd;stroke:#CA2326;stroke-width:11.0px;stroke-linecap:butt;stroke-linejoin:miter;stroke-opacity:1\"/>\n",
       "<path class=\"bond-2 atom-2 atom-3\" d=\"M 87.4,69.0 L 138.8,66.1\" style=\"fill:none;fill-rule:evenodd;stroke:#CA2326;stroke-width:11.0px;stroke-linecap:butt;stroke-linejoin:miter;stroke-opacity:1\"/>\n",
       "<path class=\"bond-3 atom-3 atom-4\" d=\"M 138.8,66.1 L 167.0,109.2\" style=\"fill:none;fill-rule:evenodd;stroke:#CA2326;stroke-width:11.0px;stroke-linecap:butt;stroke-linejoin:miter;stroke-opacity:1\"/>\n",
       "<path class=\"bond-7 atom-4 atom-8\" d=\"M 167.0,109.2 L 143.8,155.2\" style=\"fill:none;fill-rule:evenodd;stroke:#CA2326;stroke-width:11.0px;stroke-linecap:butt;stroke-linejoin:miter;stroke-opacity:1\"/>\n",
       "<path class=\"bond-5 atom-5 atom-6\" d=\"M 218.5,106.4 L 246.7,149.5\" style=\"fill:none;fill-rule:evenodd;stroke:#B40F26;stroke-width:11.0px;stroke-linecap:butt;stroke-linejoin:miter;stroke-opacity:1\"/>\n",
       "<path class=\"bond-6 atom-5 atom-7\" d=\"M 218.5,106.4 L 241.7,60.4\" style=\"fill:none;fill-rule:evenodd;stroke:#B40F26;stroke-width:11.0px;stroke-linecap:butt;stroke-linejoin:miter;stroke-opacity:1\"/>\n",
       "<path class=\"bond-8 atom-8 atom-9\" d=\"M 143.8,155.2 L 172.0,198.3\" style=\"fill:none;fill-rule:evenodd;stroke:#CA2326;stroke-width:11.0px;stroke-linecap:butt;stroke-linejoin:miter;stroke-opacity:1\"/>\n",
       "<path class=\"bond-9 atom-8 atom-10\" d=\"M 143.8,155.2 L 92.4,158.1\" style=\"fill:none;fill-rule:evenodd;stroke:#CA2326;stroke-width:11.0px;stroke-linecap:butt;stroke-linejoin:miter;stroke-opacity:1\"/>\n",
       "<ellipse class=\"atom-0\" cx=\"12.7\" cy=\"117.9\" rx=\"10.3\" ry=\"10.3\" style=\"fill:#CA2326;fill-rule:evenodd;stroke:#CA2326;stroke-width:1.0px;stroke-linecap:butt;stroke-linejoin:miter;stroke-opacity:1\"/>\n",
       "<ellipse class=\"atom-1\" cx=\"64.2\" cy=\"115.0\" rx=\"10.3\" ry=\"10.3\" style=\"fill:#CA2326;fill-rule:evenodd;stroke:#CA2326;stroke-width:1.0px;stroke-linecap:butt;stroke-linejoin:miter;stroke-opacity:1\"/>\n",
       "<ellipse class=\"atom-2\" cx=\"87.4\" cy=\"69.0\" rx=\"10.3\" ry=\"10.3\" style=\"fill:#CA2326;fill-rule:evenodd;stroke:#CA2326;stroke-width:1.0px;stroke-linecap:butt;stroke-linejoin:miter;stroke-opacity:1\"/>\n",
       "<ellipse class=\"atom-3\" cx=\"138.8\" cy=\"66.1\" rx=\"10.3\" ry=\"10.3\" style=\"fill:#CA2326;fill-rule:evenodd;stroke:#CA2326;stroke-width:1.0px;stroke-linecap:butt;stroke-linejoin:miter;stroke-opacity:1\"/>\n",
       "<ellipse class=\"atom-4\" cx=\"167.0\" cy=\"109.2\" rx=\"10.3\" ry=\"10.3\" style=\"fill:#CA2326;fill-rule:evenodd;stroke:#CA2326;stroke-width:1.0px;stroke-linecap:butt;stroke-linejoin:miter;stroke-opacity:1\"/>\n",
       "<ellipse class=\"atom-5\" cx=\"218.5\" cy=\"106.4\" rx=\"10.3\" ry=\"10.3\" style=\"fill:#B40F26;fill-rule:evenodd;stroke:#B40F26;stroke-width:1.0px;stroke-linecap:butt;stroke-linejoin:miter;stroke-opacity:1\"/>\n",
       "<ellipse class=\"atom-6\" cx=\"246.7\" cy=\"149.5\" rx=\"10.3\" ry=\"10.3\" style=\"fill:#B40F26;fill-rule:evenodd;stroke:#B40F26;stroke-width:1.0px;stroke-linecap:butt;stroke-linejoin:miter;stroke-opacity:1\"/>\n",
       "<ellipse class=\"atom-7\" cx=\"241.7\" cy=\"60.4\" rx=\"10.3\" ry=\"10.3\" style=\"fill:#B40F26;fill-rule:evenodd;stroke:#B40F26;stroke-width:1.0px;stroke-linecap:butt;stroke-linejoin:miter;stroke-opacity:1\"/>\n",
       "<ellipse class=\"atom-8\" cx=\"143.8\" cy=\"155.2\" rx=\"10.3\" ry=\"10.3\" style=\"fill:#CA2326;fill-rule:evenodd;stroke:#CA2326;stroke-width:1.0px;stroke-linecap:butt;stroke-linejoin:miter;stroke-opacity:1\"/>\n",
       "<ellipse class=\"atom-9\" cx=\"178.2\" cy=\"198.4\" rx=\"18.3\" ry=\"10.6\" style=\"fill:#CA2326;fill-rule:evenodd;stroke:#CA2326;stroke-width:1.0px;stroke-linecap:butt;stroke-linejoin:miter;stroke-opacity:1\"/>\n",
       "<ellipse class=\"atom-10\" cx=\"92.4\" cy=\"158.1\" rx=\"10.3\" ry=\"10.3\" style=\"fill:#CA2326;fill-rule:evenodd;stroke:#CA2326;stroke-width:1.0px;stroke-linecap:butt;stroke-linejoin:miter;stroke-opacity:1\"/>\n",
       "<path class=\"bond-0 atom-0 atom-1\" d=\"M 12.7,117.9 L 64.2,115.0\" style=\"fill:none;fill-rule:evenodd;stroke:#000000;stroke-width:2.0px;stroke-linecap:butt;stroke-linejoin:miter;stroke-opacity:1\"/>\n",
       "<path class=\"bond-1 atom-1 atom-2\" d=\"M 64.2,115.0 L 87.4,69.0\" style=\"fill:none;fill-rule:evenodd;stroke:#000000;stroke-width:2.0px;stroke-linecap:butt;stroke-linejoin:miter;stroke-opacity:1\"/>\n",
       "<path class=\"bond-2 atom-2 atom-3\" d=\"M 87.4,69.0 L 138.8,66.1\" style=\"fill:none;fill-rule:evenodd;stroke:#000000;stroke-width:2.0px;stroke-linecap:butt;stroke-linejoin:miter;stroke-opacity:1\"/>\n",
       "<path class=\"bond-3 atom-3 atom-4\" d=\"M 138.8,66.1 L 167.0,109.2\" style=\"fill:none;fill-rule:evenodd;stroke:#000000;stroke-width:2.0px;stroke-linecap:butt;stroke-linejoin:miter;stroke-opacity:1\"/>\n",
       "<path class=\"bond-4 atom-4 atom-5\" d=\"M 167.0,109.2 L 218.5,106.4\" style=\"fill:none;fill-rule:evenodd;stroke:#000000;stroke-width:2.0px;stroke-linecap:butt;stroke-linejoin:miter;stroke-opacity:1\"/>\n",
       "<path class=\"bond-5 atom-5 atom-6\" d=\"M 218.5,106.4 L 246.7,149.5\" style=\"fill:none;fill-rule:evenodd;stroke:#000000;stroke-width:2.0px;stroke-linecap:butt;stroke-linejoin:miter;stroke-opacity:1\"/>\n",
       "<path class=\"bond-6 atom-5 atom-7\" d=\"M 218.5,106.4 L 241.7,60.4\" style=\"fill:none;fill-rule:evenodd;stroke:#000000;stroke-width:2.0px;stroke-linecap:butt;stroke-linejoin:miter;stroke-opacity:1\"/>\n",
       "<path class=\"bond-7 atom-4 atom-8\" d=\"M 167.0,109.2 L 143.8,155.2\" style=\"fill:none;fill-rule:evenodd;stroke:#000000;stroke-width:2.0px;stroke-linecap:butt;stroke-linejoin:miter;stroke-opacity:1\"/>\n",
       "<path class=\"bond-8 atom-8 atom-9\" d=\"M 143.8,155.2 L 154.9,172.2\" style=\"fill:none;fill-rule:evenodd;stroke:#000000;stroke-width:2.0px;stroke-linecap:butt;stroke-linejoin:miter;stroke-opacity:1\"/>\n",
       "<path class=\"bond-8 atom-8 atom-9\" d=\"M 154.9,172.2 L 166.1,189.2\" style=\"fill:none;fill-rule:evenodd;stroke:#FF0000;stroke-width:2.0px;stroke-linecap:butt;stroke-linejoin:miter;stroke-opacity:1\"/>\n",
       "<path class=\"bond-9 atom-8 atom-10\" d=\"M 143.8,155.2 L 92.4,158.1\" style=\"fill:none;fill-rule:evenodd;stroke:#000000;stroke-width:2.0px;stroke-linecap:butt;stroke-linejoin:miter;stroke-opacity:1\"/>\n",
       "<path class=\"bond-10 atom-10 atom-1\" d=\"M 92.4,158.1 L 64.2,115.0\" style=\"fill:none;fill-rule:evenodd;stroke:#000000;stroke-width:2.0px;stroke-linecap:butt;stroke-linejoin:miter;stroke-opacity:1\"/>\n",
       "<path class=\"atom-9\" d=\"M 165.3 198.4 Q 165.3 194.9, 167.1 192.9 Q 168.8 190.9, 172.0 190.9 Q 175.3 190.9, 177.0 192.9 Q 178.7 194.9, 178.7 198.4 Q 178.7 201.9, 177.0 203.9 Q 175.2 205.9, 172.0 205.9 Q 168.8 205.9, 167.1 203.9 Q 165.3 201.9, 165.3 198.4 M 172.0 204.3 Q 174.2 204.3, 175.4 202.8 Q 176.7 201.3, 176.7 198.4 Q 176.7 195.5, 175.4 194.1 Q 174.2 192.6, 172.0 192.6 Q 169.8 192.6, 168.6 194.0 Q 167.4 195.5, 167.4 198.4 Q 167.4 201.3, 168.6 202.8 Q 169.8 204.3, 172.0 204.3 \" fill=\"#FF0000\"/>\n",
       "<path class=\"atom-9\" d=\"M 179.7 191.1 L 181.7 191.1 L 181.7 197.3 L 189.2 197.3 L 189.2 191.1 L 191.2 191.1 L 191.2 205.7 L 189.2 205.7 L 189.2 199.0 L 181.7 199.0 L 181.7 205.7 L 179.7 205.7 L 179.7 191.1 \" fill=\"#FF0000\"/>\n",
       "</svg>"
      ],
      "text/plain": [
       "<IPython.core.display.SVG object>"
      ]
     },
     "metadata": {},
     "output_type": "display_data"
    },
    {
     "name": "stdout",
     "output_type": "stream",
     "text": [
      "\n",
      "********Murcko attribution********\n"
     ]
    },
    {
     "name": "stderr",
     "output_type": "stream",
     "text": [
      "[00:49:54] The new font size 1 is below the current minimum (6).\n"
     ]
    },
    {
     "data": {
      "image/svg+xml": [
       "<svg baseProfile=\"full\" height=\"280px\" version=\"1.1\" viewBox=\"0 0 280 280\" width=\"280px\" xml:space=\"preserve\" xmlns=\"http://www.w3.org/2000/svg\" xmlns:rdkit=\"http://www.rdkit.org/xml\" xmlns:xlink=\"http://www.w3.org/1999/xlink\">\n",
       "<!-- END OF HEADER -->\n",
       "<rect height=\"280.0\" style=\"opacity:1.0;fill:#FFFFFF;stroke:none\" width=\"280.0\" x=\"0.0\" y=\"0.0\"> </rect>\n",
       "<path class=\"bond-1 atom-1 atom-2\" d=\"M 64.2,115.0 L 87.4,69.0\" style=\"fill:none;fill-rule:evenodd;stroke:#A60126;stroke-width:11.0px;stroke-linecap:butt;stroke-linejoin:miter;stroke-opacity:1\"/>\n",
       "<path class=\"bond-10 atom-1 atom-10\" d=\"M 64.2,115.0 L 92.4,158.1\" style=\"fill:none;fill-rule:evenodd;stroke:#A60126;stroke-width:11.0px;stroke-linecap:butt;stroke-linejoin:miter;stroke-opacity:1\"/>\n",
       "<path class=\"bond-2 atom-2 atom-3\" d=\"M 87.4,69.0 L 138.8,66.1\" style=\"fill:none;fill-rule:evenodd;stroke:#A60126;stroke-width:11.0px;stroke-linecap:butt;stroke-linejoin:miter;stroke-opacity:1\"/>\n",
       "<path class=\"bond-3 atom-3 atom-4\" d=\"M 138.8,66.1 L 167.0,109.2\" style=\"fill:none;fill-rule:evenodd;stroke:#A60126;stroke-width:11.0px;stroke-linecap:butt;stroke-linejoin:miter;stroke-opacity:1\"/>\n",
       "<path class=\"bond-7 atom-4 atom-8\" d=\"M 167.0,109.2 L 143.8,155.2\" style=\"fill:none;fill-rule:evenodd;stroke:#A60126;stroke-width:11.0px;stroke-linecap:butt;stroke-linejoin:miter;stroke-opacity:1\"/>\n",
       "<path class=\"bond-5 atom-5 atom-6\" d=\"M 218.5,106.4 L 246.7,149.5\" style=\"fill:none;fill-rule:evenodd;stroke:#B40F26;stroke-width:11.0px;stroke-linecap:butt;stroke-linejoin:miter;stroke-opacity:1\"/>\n",
       "<path class=\"bond-6 atom-5 atom-7\" d=\"M 218.5,106.4 L 241.7,60.4\" style=\"fill:none;fill-rule:evenodd;stroke:#B40F26;stroke-width:11.0px;stroke-linecap:butt;stroke-linejoin:miter;stroke-opacity:1\"/>\n",
       "<path class=\"bond-9 atom-8 atom-10\" d=\"M 143.8,155.2 L 92.4,158.1\" style=\"fill:none;fill-rule:evenodd;stroke:#A60126;stroke-width:11.0px;stroke-linecap:butt;stroke-linejoin:miter;stroke-opacity:1\"/>\n",
       "<ellipse class=\"atom-0\" cx=\"12.7\" cy=\"117.9\" rx=\"10.3\" ry=\"10.3\" style=\"fill:#F89053;fill-rule:evenodd;stroke:#F89053;stroke-width:1.0px;stroke-linecap:butt;stroke-linejoin:miter;stroke-opacity:1\"/>\n",
       "<ellipse class=\"atom-1\" cx=\"64.2\" cy=\"115.0\" rx=\"10.3\" ry=\"10.3\" style=\"fill:#A60126;fill-rule:evenodd;stroke:#A60126;stroke-width:1.0px;stroke-linecap:butt;stroke-linejoin:miter;stroke-opacity:1\"/>\n",
       "<ellipse class=\"atom-2\" cx=\"87.4\" cy=\"69.0\" rx=\"10.3\" ry=\"10.3\" style=\"fill:#A60126;fill-rule:evenodd;stroke:#A60126;stroke-width:1.0px;stroke-linecap:butt;stroke-linejoin:miter;stroke-opacity:1\"/>\n",
       "<ellipse class=\"atom-3\" cx=\"138.8\" cy=\"66.1\" rx=\"10.3\" ry=\"10.3\" style=\"fill:#A60126;fill-rule:evenodd;stroke:#A60126;stroke-width:1.0px;stroke-linecap:butt;stroke-linejoin:miter;stroke-opacity:1\"/>\n",
       "<ellipse class=\"atom-4\" cx=\"167.0\" cy=\"109.2\" rx=\"10.3\" ry=\"10.3\" style=\"fill:#A60126;fill-rule:evenodd;stroke:#A60126;stroke-width:1.0px;stroke-linecap:butt;stroke-linejoin:miter;stroke-opacity:1\"/>\n",
       "<ellipse class=\"atom-5\" cx=\"218.5\" cy=\"106.4\" rx=\"10.3\" ry=\"10.3\" style=\"fill:#B40F26;fill-rule:evenodd;stroke:#B40F26;stroke-width:1.0px;stroke-linecap:butt;stroke-linejoin:miter;stroke-opacity:1\"/>\n",
       "<ellipse class=\"atom-6\" cx=\"246.7\" cy=\"149.5\" rx=\"10.3\" ry=\"10.3\" style=\"fill:#B40F26;fill-rule:evenodd;stroke:#B40F26;stroke-width:1.0px;stroke-linecap:butt;stroke-linejoin:miter;stroke-opacity:1\"/>\n",
       "<ellipse class=\"atom-7\" cx=\"241.7\" cy=\"60.4\" rx=\"10.3\" ry=\"10.3\" style=\"fill:#B40F26;fill-rule:evenodd;stroke:#B40F26;stroke-width:1.0px;stroke-linecap:butt;stroke-linejoin:miter;stroke-opacity:1\"/>\n",
       "<ellipse class=\"atom-8\" cx=\"143.8\" cy=\"155.2\" rx=\"10.3\" ry=\"10.3\" style=\"fill:#A60126;fill-rule:evenodd;stroke:#A60126;stroke-width:1.0px;stroke-linecap:butt;stroke-linejoin:miter;stroke-opacity:1\"/>\n",
       "<ellipse class=\"atom-9\" cx=\"178.2\" cy=\"198.4\" rx=\"18.3\" ry=\"10.6\" style=\"fill:#046F3A;fill-rule:evenodd;stroke:#046F3A;stroke-width:1.0px;stroke-linecap:butt;stroke-linejoin:miter;stroke-opacity:1\"/>\n",
       "<ellipse class=\"atom-10\" cx=\"92.4\" cy=\"158.1\" rx=\"10.3\" ry=\"10.3\" style=\"fill:#A60126;fill-rule:evenodd;stroke:#A60126;stroke-width:1.0px;stroke-linecap:butt;stroke-linejoin:miter;stroke-opacity:1\"/>\n",
       "<path class=\"bond-0 atom-0 atom-1\" d=\"M 12.7,117.9 L 64.2,115.0\" style=\"fill:none;fill-rule:evenodd;stroke:#000000;stroke-width:2.0px;stroke-linecap:butt;stroke-linejoin:miter;stroke-opacity:1\"/>\n",
       "<path class=\"bond-1 atom-1 atom-2\" d=\"M 64.2,115.0 L 87.4,69.0\" style=\"fill:none;fill-rule:evenodd;stroke:#000000;stroke-width:2.0px;stroke-linecap:butt;stroke-linejoin:miter;stroke-opacity:1\"/>\n",
       "<path class=\"bond-2 atom-2 atom-3\" d=\"M 87.4,69.0 L 138.8,66.1\" style=\"fill:none;fill-rule:evenodd;stroke:#000000;stroke-width:2.0px;stroke-linecap:butt;stroke-linejoin:miter;stroke-opacity:1\"/>\n",
       "<path class=\"bond-3 atom-3 atom-4\" d=\"M 138.8,66.1 L 167.0,109.2\" style=\"fill:none;fill-rule:evenodd;stroke:#000000;stroke-width:2.0px;stroke-linecap:butt;stroke-linejoin:miter;stroke-opacity:1\"/>\n",
       "<path class=\"bond-4 atom-4 atom-5\" d=\"M 167.0,109.2 L 218.5,106.4\" style=\"fill:none;fill-rule:evenodd;stroke:#000000;stroke-width:2.0px;stroke-linecap:butt;stroke-linejoin:miter;stroke-opacity:1\"/>\n",
       "<path class=\"bond-5 atom-5 atom-6\" d=\"M 218.5,106.4 L 246.7,149.5\" style=\"fill:none;fill-rule:evenodd;stroke:#000000;stroke-width:2.0px;stroke-linecap:butt;stroke-linejoin:miter;stroke-opacity:1\"/>\n",
       "<path class=\"bond-6 atom-5 atom-7\" d=\"M 218.5,106.4 L 241.7,60.4\" style=\"fill:none;fill-rule:evenodd;stroke:#000000;stroke-width:2.0px;stroke-linecap:butt;stroke-linejoin:miter;stroke-opacity:1\"/>\n",
       "<path class=\"bond-7 atom-4 atom-8\" d=\"M 167.0,109.2 L 143.8,155.2\" style=\"fill:none;fill-rule:evenodd;stroke:#000000;stroke-width:2.0px;stroke-linecap:butt;stroke-linejoin:miter;stroke-opacity:1\"/>\n",
       "<path class=\"bond-8 atom-8 atom-9\" d=\"M 143.8,155.2 L 154.9,172.2\" style=\"fill:none;fill-rule:evenodd;stroke:#000000;stroke-width:2.0px;stroke-linecap:butt;stroke-linejoin:miter;stroke-opacity:1\"/>\n",
       "<path class=\"bond-8 atom-8 atom-9\" d=\"M 154.9,172.2 L 166.1,189.2\" style=\"fill:none;fill-rule:evenodd;stroke:#FF0000;stroke-width:2.0px;stroke-linecap:butt;stroke-linejoin:miter;stroke-opacity:1\"/>\n",
       "<path class=\"bond-9 atom-8 atom-10\" d=\"M 143.8,155.2 L 92.4,158.1\" style=\"fill:none;fill-rule:evenodd;stroke:#000000;stroke-width:2.0px;stroke-linecap:butt;stroke-linejoin:miter;stroke-opacity:1\"/>\n",
       "<path class=\"bond-10 atom-10 atom-1\" d=\"M 92.4,158.1 L 64.2,115.0\" style=\"fill:none;fill-rule:evenodd;stroke:#000000;stroke-width:2.0px;stroke-linecap:butt;stroke-linejoin:miter;stroke-opacity:1\"/>\n",
       "<path class=\"atom-9\" d=\"M 165.3 198.4 Q 165.3 194.9, 167.1 192.9 Q 168.8 190.9, 172.0 190.9 Q 175.3 190.9, 177.0 192.9 Q 178.7 194.9, 178.7 198.4 Q 178.7 201.9, 177.0 203.9 Q 175.2 205.9, 172.0 205.9 Q 168.8 205.9, 167.1 203.9 Q 165.3 201.9, 165.3 198.4 M 172.0 204.3 Q 174.2 204.3, 175.4 202.8 Q 176.7 201.3, 176.7 198.4 Q 176.7 195.5, 175.4 194.1 Q 174.2 192.6, 172.0 192.6 Q 169.8 192.6, 168.6 194.0 Q 167.4 195.5, 167.4 198.4 Q 167.4 201.3, 168.6 202.8 Q 169.8 204.3, 172.0 204.3 \" fill=\"#FF0000\"/>\n",
       "<path class=\"atom-9\" d=\"M 179.7 191.1 L 181.7 191.1 L 181.7 197.3 L 189.2 197.3 L 189.2 191.1 L 191.2 191.1 L 191.2 205.7 L 189.2 205.7 L 189.2 199.0 L 181.7 199.0 L 181.7 205.7 L 179.7 205.7 L 179.7 191.1 \" fill=\"#FF0000\"/>\n",
       "</svg>"
      ],
      "text/plain": [
       "<IPython.core.display.SVG object>"
      ]
     },
     "metadata": {},
     "output_type": "display_data"
    },
    {
     "name": "stdout",
     "output_type": "stream",
     "text": [
      "\n",
      "********Functional group attribution********\n"
     ]
    },
    {
     "name": "stderr",
     "output_type": "stream",
     "text": [
      "[00:49:54] The new font size 1 is below the current minimum (6).\n"
     ]
    },
    {
     "data": {
      "image/svg+xml": [
       "<svg baseProfile=\"full\" height=\"280px\" version=\"1.1\" viewBox=\"0 0 280 280\" width=\"280px\" xml:space=\"preserve\" xmlns=\"http://www.w3.org/2000/svg\" xmlns:rdkit=\"http://www.rdkit.org/xml\" xmlns:xlink=\"http://www.w3.org/1999/xlink\">\n",
       "<!-- END OF HEADER -->\n",
       "<rect height=\"280.0\" style=\"opacity:1.0;fill:#FFFFFF;stroke:none\" width=\"280.0\" x=\"0.0\" y=\"0.0\"> </rect>\n",
       "<ellipse class=\"atom-9\" cx=\"192.8\" cy=\"203.6\" rx=\"19.9\" ry=\"11.5\" style=\"fill:#046F3A;fill-rule:evenodd;stroke:#046F3A;stroke-width:1.0px;stroke-linecap:butt;stroke-linejoin:miter;stroke-opacity:1\"/>\n",
       "<path class=\"bond-0 atom-0 atom-1\" d=\"M 12.7,115.9 L 68.7,112.8\" style=\"fill:none;fill-rule:evenodd;stroke:#000000;stroke-width:2.0px;stroke-linecap:butt;stroke-linejoin:miter;stroke-opacity:1\"/>\n",
       "<path class=\"bond-1 atom-1 atom-2\" d=\"M 68.7,112.8 L 94.0,62.8\" style=\"fill:none;fill-rule:evenodd;stroke:#000000;stroke-width:2.0px;stroke-linecap:butt;stroke-linejoin:miter;stroke-opacity:1\"/>\n",
       "<path class=\"bond-2 atom-2 atom-3\" d=\"M 94.0,62.8 L 149.9,59.6\" style=\"fill:none;fill-rule:evenodd;stroke:#000000;stroke-width:2.0px;stroke-linecap:butt;stroke-linejoin:miter;stroke-opacity:1\"/>\n",
       "<path class=\"bond-3 atom-3 atom-4\" d=\"M 149.9,59.6 L 180.6,106.5\" style=\"fill:none;fill-rule:evenodd;stroke:#000000;stroke-width:2.0px;stroke-linecap:butt;stroke-linejoin:miter;stroke-opacity:1\"/>\n",
       "<path class=\"bond-4 atom-4 atom-5\" d=\"M 180.6,106.5 L 236.6,103.4\" style=\"fill:none;fill-rule:evenodd;stroke:#000000;stroke-width:2.0px;stroke-linecap:butt;stroke-linejoin:miter;stroke-opacity:1\"/>\n",
       "<path class=\"bond-5 atom-5 atom-6\" d=\"M 236.6,103.4 L 267.3,150.3\" style=\"fill:none;fill-rule:evenodd;stroke:#000000;stroke-width:2.0px;stroke-linecap:butt;stroke-linejoin:miter;stroke-opacity:1\"/>\n",
       "<path class=\"bond-6 atom-5 atom-7\" d=\"M 236.6,103.4 L 261.8,53.4\" style=\"fill:none;fill-rule:evenodd;stroke:#000000;stroke-width:2.0px;stroke-linecap:butt;stroke-linejoin:miter;stroke-opacity:1\"/>\n",
       "<path class=\"bond-7 atom-4 atom-8\" d=\"M 180.6,106.5 L 155.3,156.6\" style=\"fill:none;fill-rule:evenodd;stroke:#000000;stroke-width:2.0px;stroke-linecap:butt;stroke-linejoin:miter;stroke-opacity:1\"/>\n",
       "<path class=\"bond-8 atom-8 atom-9\" d=\"M 155.3,156.6 L 167.5,175.1\" style=\"fill:none;fill-rule:evenodd;stroke:#000000;stroke-width:2.0px;stroke-linecap:butt;stroke-linejoin:miter;stroke-opacity:1\"/>\n",
       "<path class=\"bond-8 atom-8 atom-9\" d=\"M 167.5,175.1 L 179.6,193.6\" style=\"fill:none;fill-rule:evenodd;stroke:#FF0000;stroke-width:2.0px;stroke-linecap:butt;stroke-linejoin:miter;stroke-opacity:1\"/>\n",
       "<path class=\"bond-9 atom-8 atom-10\" d=\"M 155.3,156.6 L 99.4,159.7\" style=\"fill:none;fill-rule:evenodd;stroke:#000000;stroke-width:2.0px;stroke-linecap:butt;stroke-linejoin:miter;stroke-opacity:1\"/>\n",
       "<path class=\"bond-10 atom-10 atom-1\" d=\"M 99.4,159.7 L 68.7,112.8\" style=\"fill:none;fill-rule:evenodd;stroke:#000000;stroke-width:2.0px;stroke-linecap:butt;stroke-linejoin:miter;stroke-opacity:1\"/>\n",
       "<path class=\"atom-9\" d=\"M 178.8 203.5 Q 178.8 199.7, 180.6 197.6 Q 182.5 195.4, 186.0 195.4 Q 189.6 195.4, 191.4 197.6 Q 193.3 199.7, 193.3 203.5 Q 193.3 207.4, 191.4 209.6 Q 189.5 211.7, 186.0 211.7 Q 182.5 211.7, 180.6 209.6 Q 178.8 207.4, 178.8 203.5 M 186.0 209.9 Q 188.5 209.9, 189.8 208.3 Q 191.1 206.7, 191.1 203.5 Q 191.1 200.4, 189.8 198.8 Q 188.5 197.2, 186.0 197.2 Q 183.6 197.2, 182.3 198.8 Q 181.0 200.4, 181.0 203.5 Q 181.0 206.7, 182.3 208.3 Q 183.6 209.9, 186.0 209.9 \" fill=\"#FF0000\"/>\n",
       "<path class=\"atom-9\" d=\"M 194.5 195.6 L 196.6 195.6 L 196.6 202.4 L 204.7 202.4 L 204.7 195.6 L 206.9 195.6 L 206.9 211.5 L 204.7 211.5 L 204.7 204.2 L 196.6 204.2 L 196.6 211.5 L 194.5 211.5 L 194.5 195.6 \" fill=\"#FF0000\"/>\n",
       "</svg>"
      ],
      "text/plain": [
       "<IPython.core.display.SVG object>"
      ]
     },
     "metadata": {},
     "output_type": "display_data"
    },
    {
     "name": "stdout",
     "output_type": "stream",
     "text": [
      "\n",
      "******************************************\n"
     ]
    }
   ],
   "source": [
    "import pandas as pd\n",
    "import numpy as np\n",
    "from utils import atom_attribution_visualize, sub_attribution_visualize, return_atom_and_sub_attribution, return_bond_sub_index, return_smask_index_i\n",
    "import seaborn as sns \n",
    "\n",
    "\n",
    "task_name = 'ESOL'\n",
    "# ['-C#CH', '-C#N', '-C(=O)CH3', '-C(=O)N', '-C(=O)O', '-C(=O)OMe', '-CF3', '-N', '-N#N', '-N=C=O', '-N=C=S', '-N=CH2', '-N=N', '-N=NCH3', '-N=O', '-NC(=O)CH3', '-NHSO2CH3', '-NO2', '-O', '-OEt', '-OMe', '-S', '-SCH3', '-SO2CH3', '-SO2Cl', '-SO2NH2', '-SO3CH3', '-SO3H', '-SOCH3', '-X', '-cPropyl', '-tBu', '=N', '=N-O', '=NCH3', '=O', '=S']\n",
    "selected_fg_group = '-O'\n",
    "specific_smiles_list = None\n",
    "specific_smiles_list = ['CC1CCC(C(C)C)C(O)C1', 'COc1ccc(C(O)(c2cncnc2)C2CC2)cc1']\n",
    "\n",
    "# 只是记录数据的子结构mask情况，这里取seed1的就行\n",
    "brics_smask_index_list = [x for x in np.load('../prediction/brics/{}_brics_1_train_smask_index.npy'.format(task_name), allow_pickle=True)] + [x for x in np.load('../prediction/brics/{}_brics_1_val_smask_index.npy'.format(task_name), allow_pickle=True)] + [x for x in np.load('../prediction/brics/{}_brics_1_test_smask_index.npy'.format(task_name), allow_pickle=True)]\n",
    "fg_smask_index_list = [x for x in np.load('../prediction/fg/{}_fg_1_train_smask_index.npy'.format(task_name), allow_pickle=True)] + [x for x in np.load('../prediction/fg/{}_fg_1_val_smask_index.npy'.format(task_name), allow_pickle=True)] + [x for x in np.load('../prediction/fg/{}_fg_1_test_smask_index.npy'.format(task_name), allow_pickle=True)]\n",
    "murcko_smask_index_list = [x for x in np.load('../prediction/murcko/{}_murcko_1_train_smask_index.npy'.format(task_name), allow_pickle=True)] + [x for x in np.load('../prediction/murcko/{}_murcko_1_val_smask_index.npy'.format(task_name), allow_pickle=True)] + [x for x in np.load('../prediction/murcko/{}_murcko_1_test_smask_index.npy'.format(task_name), allow_pickle=True)]\n",
    "\n",
    "# 载入attribution数据\n",
    "data_brics = pd.read_csv('../prediction/attribution/{}_{}_attribution_summary.csv'.format(task_name, 'brics'))\n",
    "data_fg = pd.read_csv('../prediction/attribution/{}_{}_attribution_summary.csv'.format(task_name, 'fg'))\n",
    "data_murcko = pd.read_csv('../prediction/attribution/{}_{}_attribution_summary.csv'.format(task_name, 'murcko'))\n",
    "smiles_list = data_fg['smiles'].tolist()\n",
    "if selected_fg_group is not None:\n",
    "    smiles_list = list(set(data_fg[data_fg['sub_name']==selected_fg_group]['smiles'].tolist()))\n",
    "if specific_smiles_list is not None:\n",
    "    smiles_list = specific_smiles_list\n",
    "smiles_list = list(set(smiles_list))\n",
    "\n",
    "\n",
    "for smiles_i in smiles_list:\n",
    "    # 获取attribution中smiles_i的碎片index\n",
    "    brics_index_i = data_brics[data_brics['smiles'] == smiles_i].index.tolist()\n",
    "\n",
    "    # 根据碎片index获取子碎片mask掉原子的index\n",
    "    brics_smask_index_i = return_smask_index_i(brics_smask_index_list, brics_index_i)\n",
    "\n",
    "    # 得到attribution\n",
    "    brics_attribution_i = data_brics[data_brics['smiles'] == smiles_i].attribution_normalized.tolist()\n",
    "\n",
    "    murcko_index_i = data_murcko[data_murcko['smiles'] == smiles_i].index.tolist()\n",
    "    murcko_smask_index_i = return_smask_index_i(murcko_smask_index_list, murcko_index_i)\n",
    "    murcko_attribution_i = data_murcko[data_murcko['smiles'] == smiles_i].attribution_normalized.tolist()\n",
    "\n",
    "    fg_index_i = data_fg[data_fg['smiles'] == smiles_i].index.tolist()\n",
    "    fg_smask_index_i = return_smask_index_i(fg_smask_index_list, fg_index_i)\n",
    "    fg_attribution_i = data_fg[data_fg['smiles'] == smiles_i].attribution_normalized.tolist()\n",
    "\n",
    "    atom_attribution_list, sub_attribution_list, sub_bond_attribution_list, bond_list, fg_attribution, fg_atom_list, fg_bond_attribution_list, fg_bond_list, murcko_attribution, murcko_atom_list, murcko_bond_attribution_list, murcko_bond_list = return_atom_and_sub_attribution(\n",
    "        smiles_i, brics_smask_index_i, brics_attribution_i, fg_smask_index_i, fg_attribution_i, murcko_smask_index_i,\n",
    "        murcko_attribution_i)\n",
    "\n",
    "    print(\"*********************{}*********************\".format(smiles_i))\n",
    "    print('prediction:', data_brics[data_brics['smiles'] == smiles_i].mol_pred_mean.tolist()[0])\n",
    "    print('label:', data_brics[data_brics['smiles'] == smiles_i].label.tolist()[0])\n",
    "    print(\"********{}********\".format('atom attribution'))\n",
    "    atom_attribution_visualize(smiles_i, atom_attribution_list)\n",
    "\n",
    "    print(\"********{}********\".format('BRICS attribution'))\n",
    "    sub_attribution_visualize(smiles_i, sub_attribution_list, sub_bond_attribution_list, bond_list=bond_list)\n",
    "    print()\n",
    "\n",
    "    print(\"********{}********\".format('Murcko attribution'))\n",
    "    sub_attribution_visualize(smiles_i, murcko_attribution, murcko_bond_attribution_list, murcko_atom_list,\n",
    "                             murcko_bond_list)\n",
    "    print()\n",
    "\n",
    "    if len(fg_smask_index_i) > 0:\n",
    "        print(\"********{}********\".format('Functional group attribution'))\n",
    "        sub_attribution_visualize(smiles_i, fg_attribution, fg_bond_attribution_list, fg_atom_list, fg_bond_list)\n",
    "        print()\n",
    "    print(\"******************************************\".format(smiles_i))\n",
    "\n",
    "\n",
    "\n",
    "\n"
   ]
  },
  {
   "cell_type": "code",
   "execution_count": null,
   "id": "63f43560",
   "metadata": {},
   "outputs": [],
   "source": []
  },
  {
   "cell_type": "code",
   "execution_count": null,
   "id": "86f4a7fe",
   "metadata": {},
   "outputs": [],
   "source": []
  }
 ],
 "metadata": {
  "kernelspec": {
   "display_name": "dgl071",
   "language": "python",
   "name": "dgl071"
  },
  "language_info": {
   "codemirror_mode": {
    "name": "ipython",
    "version": 3
   },
   "file_extension": ".py",
   "mimetype": "text/x-python",
   "name": "python",
   "nbconvert_exporter": "python",
   "pygments_lexer": "ipython3",
   "version": "3.7.13"
  }
 },
 "nbformat": 4,
 "nbformat_minor": 5
}
